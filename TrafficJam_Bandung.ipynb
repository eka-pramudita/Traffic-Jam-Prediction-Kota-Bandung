{
  "nbformat": 4,
  "nbformat_minor": 0,
  "metadata": {
    "colab": {
      "name": "TrafficJam_Bandung.ipynb",
      "provenance": [],
      "collapsed_sections": [
        "pA_MdfXTeF2b",
        "xf-XEHSS4kc5",
        "5d-rJzHfbu3B",
        "xG4d7X24b5ik",
        "4ERFghyW2Nij",
        "gRaiI-d539jl",
        "OBEnLQAvdJQd",
        "SCbA_mTRgolk",
        "8kNINW18Ns-V"
      ],
      "toc_visible": true
    },
    "kernelspec": {
      "display_name": "Python 3",
      "name": "python3"
    },
    "language_info": {
      "name": "python"
    }
  },
  "cells": [
    {
      "cell_type": "markdown",
      "metadata": {
        "id": "EJw3Zz9yMeem"
      },
      "source": [
        "# Pemodelan Machine Learning untuk Memprediksi Level Kemacetan di Kota Bandung"
      ]
    },
    {
      "cell_type": "markdown",
      "metadata": {
        "id": "wLpn7LofNcZn"
      },
      "source": [
        "<div align=\"center\">\n",
        "<img src=\"https://i.imgur.com/P5PeqCs.jpg\">\n",
        "</div>"
      ]
    },
    {
      "cell_type": "markdown",
      "metadata": {
        "id": "pA_MdfXTeF2b"
      },
      "source": [
        "\n",
        "# Inisialisasi"
      ]
    },
    {
      "cell_type": "code",
      "metadata": {
        "colab": {
          "base_uri": "https://localhost:8080/"
        },
        "id": "f7b7DBbFBnTk",
        "outputId": "77332c87-ca1a-417d-baab-d31be59eb678"
      },
      "source": [
        "!pip install geopandas"
      ],
      "execution_count": 97,
      "outputs": [
        {
          "output_type": "stream",
          "text": [
            "Requirement already satisfied: geopandas in /usr/local/lib/python3.7/dist-packages (0.9.0)\n",
            "Requirement already satisfied: pandas>=0.24.0 in /usr/local/lib/python3.7/dist-packages (from geopandas) (1.1.5)\n",
            "Requirement already satisfied: shapely>=1.6 in /usr/local/lib/python3.7/dist-packages (from geopandas) (1.7.1)\n",
            "Requirement already satisfied: pyproj>=2.2.0 in /usr/local/lib/python3.7/dist-packages (from geopandas) (3.0.1)\n",
            "Requirement already satisfied: fiona>=1.8 in /usr/local/lib/python3.7/dist-packages (from geopandas) (1.8.19)\n",
            "Requirement already satisfied: python-dateutil>=2.7.3 in /usr/local/lib/python3.7/dist-packages (from pandas>=0.24.0->geopandas) (2.8.1)\n",
            "Requirement already satisfied: pytz>=2017.2 in /usr/local/lib/python3.7/dist-packages (from pandas>=0.24.0->geopandas) (2018.9)\n",
            "Requirement already satisfied: numpy>=1.15.4 in /usr/local/lib/python3.7/dist-packages (from pandas>=0.24.0->geopandas) (1.19.5)\n",
            "Requirement already satisfied: certifi in /usr/local/lib/python3.7/dist-packages (from pyproj>=2.2.0->geopandas) (2020.12.5)\n",
            "Requirement already satisfied: munch in /usr/local/lib/python3.7/dist-packages (from fiona>=1.8->geopandas) (2.5.0)\n",
            "Requirement already satisfied: click-plugins>=1.0 in /usr/local/lib/python3.7/dist-packages (from fiona>=1.8->geopandas) (1.1.1)\n",
            "Requirement already satisfied: attrs>=17 in /usr/local/lib/python3.7/dist-packages (from fiona>=1.8->geopandas) (21.2.0)\n",
            "Requirement already satisfied: click<8,>=4.0 in /usr/local/lib/python3.7/dist-packages (from fiona>=1.8->geopandas) (7.1.2)\n",
            "Requirement already satisfied: six>=1.7 in /usr/local/lib/python3.7/dist-packages (from fiona>=1.8->geopandas) (1.15.0)\n",
            "Requirement already satisfied: cligj>=0.5 in /usr/local/lib/python3.7/dist-packages (from fiona>=1.8->geopandas) (0.7.1)\n"
          ],
          "name": "stdout"
        }
      ]
    },
    {
      "cell_type": "code",
      "metadata": {
        "colab": {
          "base_uri": "https://localhost:8080/"
        },
        "id": "oIb_CuLqbpGk",
        "outputId": "7d746661-f813-462f-ae58-ff21dce8f2b1"
      },
      "source": [
        "!pip install rfpimp"
      ],
      "execution_count": 98,
      "outputs": [
        {
          "output_type": "stream",
          "text": [
            "Requirement already satisfied: rfpimp in /usr/local/lib/python3.7/dist-packages (1.3.7)\n",
            "Requirement already satisfied: matplotlib in /usr/local/lib/python3.7/dist-packages (from rfpimp) (3.2.2)\n",
            "Requirement already satisfied: pandas in /usr/local/lib/python3.7/dist-packages (from rfpimp) (1.1.5)\n",
            "Requirement already satisfied: scikit-learn in /usr/local/lib/python3.7/dist-packages (from rfpimp) (0.22.2.post1)\n",
            "Requirement already satisfied: numpy in /usr/local/lib/python3.7/dist-packages (from rfpimp) (1.19.5)\n",
            "Requirement already satisfied: python-dateutil>=2.1 in /usr/local/lib/python3.7/dist-packages (from matplotlib->rfpimp) (2.8.1)\n",
            "Requirement already satisfied: kiwisolver>=1.0.1 in /usr/local/lib/python3.7/dist-packages (from matplotlib->rfpimp) (1.3.1)\n",
            "Requirement already satisfied: pyparsing!=2.0.4,!=2.1.2,!=2.1.6,>=2.0.1 in /usr/local/lib/python3.7/dist-packages (from matplotlib->rfpimp) (2.4.7)\n",
            "Requirement already satisfied: cycler>=0.10 in /usr/local/lib/python3.7/dist-packages (from matplotlib->rfpimp) (0.10.0)\n",
            "Requirement already satisfied: pytz>=2017.2 in /usr/local/lib/python3.7/dist-packages (from pandas->rfpimp) (2018.9)\n",
            "Requirement already satisfied: joblib>=0.11 in /usr/local/lib/python3.7/dist-packages (from scikit-learn->rfpimp) (1.0.1)\n",
            "Requirement already satisfied: scipy>=0.17.0 in /usr/local/lib/python3.7/dist-packages (from scikit-learn->rfpimp) (1.4.1)\n",
            "Requirement already satisfied: six>=1.5 in /usr/local/lib/python3.7/dist-packages (from python-dateutil>=2.1->matplotlib->rfpimp) (1.15.0)\n"
          ],
          "name": "stdout"
        }
      ]
    },
    {
      "cell_type": "code",
      "metadata": {
        "colab": {
          "base_uri": "https://localhost:8080/",
          "height": 467
        },
        "id": "fdm4JbUWNWd3",
        "outputId": "0683ce71-2a8c-4e85-cc3a-571ae75c7066"
      },
      "source": [
        "import pandas as pd\n",
        "import numpy as np\n",
        "from datetime import datetime\n",
        "import geopandas\n",
        "import json\n",
        "from shapely.geometry import LineString, MultiLineString\n",
        "from sklearn.preprocessing import StandardScaler\n",
        "from sklearn.model_selection import train_test_split\n",
        "from sklearn.linear_model import LinearRegression\n",
        "from sklearn.metrics import r2_score, accuracy_score\n",
        "\n",
        "df = pd.read_csv('drive/MyDrive/Traffic_Jams.csv')\n",
        "df.head(5)"
      ],
      "execution_count": 99,
      "outputs": [
        {
          "output_type": "execute_result",
          "data": {
            "text/html": [
              "<div>\n",
              "<style scoped>\n",
              "    .dataframe tbody tr th:only-of-type {\n",
              "        vertical-align: middle;\n",
              "    }\n",
              "\n",
              "    .dataframe tbody tr th {\n",
              "        vertical-align: top;\n",
              "    }\n",
              "\n",
              "    .dataframe thead th {\n",
              "        text-align: right;\n",
              "    }\n",
              "</style>\n",
              "<table border=\"1\" class=\"dataframe\">\n",
              "  <thead>\n",
              "    <tr style=\"text-align: right;\">\n",
              "      <th></th>\n",
              "      <th>time</th>\n",
              "      <th>kemendagri_kabupaten_kode</th>\n",
              "      <th>kemendagri_kabupaten_nama</th>\n",
              "      <th>street</th>\n",
              "      <th>level</th>\n",
              "      <th>avg_length</th>\n",
              "      <th>avg_delay</th>\n",
              "      <th>avg_speed_kmh</th>\n",
              "      <th>total_records</th>\n",
              "      <th>id</th>\n",
              "      <th>date</th>\n",
              "      <th>geometry</th>\n",
              "    </tr>\n",
              "  </thead>\n",
              "  <tbody>\n",
              "    <tr>\n",
              "      <th>0</th>\n",
              "      <td>2019-05-31 16:00:00</td>\n",
              "      <td>32.73</td>\n",
              "      <td>KOTA BANDUNG</td>\n",
              "      <td>Van Deventer</td>\n",
              "      <td>3</td>\n",
              "      <td>176.0000</td>\n",
              "      <td>106.0000</td>\n",
              "      <td>4.920000</td>\n",
              "      <td>1</td>\n",
              "      <td>11847</td>\n",
              "      <td>2019-05-31</td>\n",
              "      <td>{\"type\": \"LineString\", \"coordinates\": [[107.61...</td>\n",
              "    </tr>\n",
              "    <tr>\n",
              "      <th>1</th>\n",
              "      <td>2019-05-31 23:00:00</td>\n",
              "      <td>32.73</td>\n",
              "      <td>KOTA BANDUNG</td>\n",
              "      <td>HOS Cokroaminoto</td>\n",
              "      <td>3</td>\n",
              "      <td>307.0000</td>\n",
              "      <td>144.0000</td>\n",
              "      <td>6.130000</td>\n",
              "      <td>1</td>\n",
              "      <td>14892</td>\n",
              "      <td>2019-05-31</td>\n",
              "      <td>{\"type\": \"LineString\", \"coordinates\": [[107.59...</td>\n",
              "    </tr>\n",
              "    <tr>\n",
              "      <th>2</th>\n",
              "      <td>2019-05-31 16:00:00</td>\n",
              "      <td>32.73</td>\n",
              "      <td>KOTA BANDUNG</td>\n",
              "      <td>Sukaati</td>\n",
              "      <td>2</td>\n",
              "      <td>207.0000</td>\n",
              "      <td>60.0000</td>\n",
              "      <td>6.110000</td>\n",
              "      <td>1</td>\n",
              "      <td>11803</td>\n",
              "      <td>2019-05-31</td>\n",
              "      <td>{\"type\": \"LineString\", \"coordinates\": [[107.62...</td>\n",
              "    </tr>\n",
              "    <tr>\n",
              "      <th>3</th>\n",
              "      <td>2019-05-31 17:00:00</td>\n",
              "      <td>32.73</td>\n",
              "      <td>KOTA BANDUNG</td>\n",
              "      <td>Cibaduyut Lama</td>\n",
              "      <td>3</td>\n",
              "      <td>220.0000</td>\n",
              "      <td>161.5000</td>\n",
              "      <td>3.931000</td>\n",
              "      <td>10</td>\n",
              "      <td>11941</td>\n",
              "      <td>2019-05-31</td>\n",
              "      <td>{\"type\": \"MultiLineString\", \"coordinates\": [[[...</td>\n",
              "    </tr>\n",
              "    <tr>\n",
              "      <th>4</th>\n",
              "      <td>2019-05-31 17:00:00</td>\n",
              "      <td>32.73</td>\n",
              "      <td>KOTA BANDUNG</td>\n",
              "      <td>Cibaduyut Raya</td>\n",
              "      <td>3</td>\n",
              "      <td>1453.4839</td>\n",
              "      <td>475.6129</td>\n",
              "      <td>8.523226</td>\n",
              "      <td>31</td>\n",
              "      <td>11942</td>\n",
              "      <td>2019-05-31</td>\n",
              "      <td>{\"type\": \"MultiLineString\", \"coordinates\": [[[...</td>\n",
              "    </tr>\n",
              "  </tbody>\n",
              "</table>\n",
              "</div>"
            ],
            "text/plain": [
              "                  time  ...                                           geometry\n",
              "0  2019-05-31 16:00:00  ...  {\"type\": \"LineString\", \"coordinates\": [[107.61...\n",
              "1  2019-05-31 23:00:00  ...  {\"type\": \"LineString\", \"coordinates\": [[107.59...\n",
              "2  2019-05-31 16:00:00  ...  {\"type\": \"LineString\", \"coordinates\": [[107.62...\n",
              "3  2019-05-31 17:00:00  ...  {\"type\": \"MultiLineString\", \"coordinates\": [[[...\n",
              "4  2019-05-31 17:00:00  ...  {\"type\": \"MultiLineString\", \"coordinates\": [[[...\n",
              "\n",
              "[5 rows x 12 columns]"
            ]
          },
          "metadata": {
            "tags": []
          },
          "execution_count": 99
        }
      ]
    },
    {
      "cell_type": "code",
      "metadata": {
        "colab": {
          "base_uri": "https://localhost:8080/"
        },
        "id": "HnBKM_1pQA7V",
        "outputId": "39ae1607-ebc1-4b1c-cd19-a98cfe12ce3a"
      },
      "source": [
        "list(df.columns)"
      ],
      "execution_count": 100,
      "outputs": [
        {
          "output_type": "execute_result",
          "data": {
            "text/plain": [
              "['time',\n",
              " 'kemendagri_kabupaten_kode',\n",
              " 'kemendagri_kabupaten_nama',\n",
              " 'street',\n",
              " 'level',\n",
              " 'avg_length',\n",
              " 'avg_delay',\n",
              " 'avg_speed_kmh',\n",
              " 'total_records',\n",
              " 'id',\n",
              " 'date',\n",
              " 'geometry']"
            ]
          },
          "metadata": {
            "tags": []
          },
          "execution_count": 100
        }
      ]
    },
    {
      "cell_type": "code",
      "metadata": {
        "colab": {
          "base_uri": "https://localhost:8080/"
        },
        "id": "wvtfCOhHQ-4o",
        "outputId": "4e5b41f5-6e4b-4c6d-bd5d-59dc5d9583d9"
      },
      "source": [
        "df.shape"
      ],
      "execution_count": 101,
      "outputs": [
        {
          "output_type": "execute_result",
          "data": {
            "text/plain": [
              "(136807, 12)"
            ]
          },
          "metadata": {
            "tags": []
          },
          "execution_count": 101
        }
      ]
    },
    {
      "cell_type": "markdown",
      "metadata": {
        "id": "mnrIkiE_09q4"
      },
      "source": [
        "# Exploratory Data Analysis"
      ]
    },
    {
      "cell_type": "markdown",
      "metadata": {
        "id": "xf-XEHSS4kc5"
      },
      "source": [
        "## Data Wrangling"
      ]
    },
    {
      "cell_type": "code",
      "metadata": {
        "colab": {
          "base_uri": "https://localhost:8080/"
        },
        "id": "IaosvDCL4DB2",
        "outputId": "2a2bf7b4-247e-4ffa-b024-081c50760588"
      },
      "source": [
        "df.isnull().mean()\n",
        "\n",
        "# Tidak ditemukan missing value di semua fitur kecuali di fitur street. Tidak akan dilakukan treatment untuk missing value \n",
        "# tersebut karena fitur street akan digantikan oleh fitur sub wilayah kota yang akan diperoleh menggunakan data eksternal."
      ],
      "execution_count": 102,
      "outputs": [
        {
          "output_type": "execute_result",
          "data": {
            "text/plain": [
              "time                         0.000000\n",
              "kemendagri_kabupaten_kode    0.000000\n",
              "kemendagri_kabupaten_nama    0.000000\n",
              "street                       0.007916\n",
              "level                        0.000000\n",
              "avg_length                   0.000000\n",
              "avg_delay                    0.000000\n",
              "avg_speed_kmh                0.000000\n",
              "total_records                0.000000\n",
              "id                           0.000000\n",
              "date                         0.000000\n",
              "geometry                     0.000000\n",
              "dtype: float64"
            ]
          },
          "metadata": {
            "tags": []
          },
          "execution_count": 102
        }
      ]
    },
    {
      "cell_type": "markdown",
      "metadata": {
        "id": "5d-rJzHfbu3B"
      },
      "source": [
        "## Transformasi tanggal ke jam dan hari"
      ]
    },
    {
      "cell_type": "code",
      "metadata": {
        "colab": {
          "base_uri": "https://localhost:8080/",
          "height": 867
        },
        "id": "VAZJ5tB_QxsF",
        "outputId": "ba082d9c-d3b5-4e5a-b151-e0049afb98e4"
      },
      "source": [
        "# Saya menilai jam dan hari lebih representatif untuk memprediksi kemacetan dibandingkan dengan tanggal atau datetime\n",
        "\n",
        "df['hour'] = df['time'].apply(lambda x : x[11:13]) # Get hours (categorical var)\n",
        "df['day'] = df['time'].apply(lambda x : datetime.strptime(x[:10], '%Y-%m-%d').strftime('%A')) # Get day\n",
        "df.head(10)"
      ],
      "execution_count": 103,
      "outputs": [
        {
          "output_type": "execute_result",
          "data": {
            "text/html": [
              "<div>\n",
              "<style scoped>\n",
              "    .dataframe tbody tr th:only-of-type {\n",
              "        vertical-align: middle;\n",
              "    }\n",
              "\n",
              "    .dataframe tbody tr th {\n",
              "        vertical-align: top;\n",
              "    }\n",
              "\n",
              "    .dataframe thead th {\n",
              "        text-align: right;\n",
              "    }\n",
              "</style>\n",
              "<table border=\"1\" class=\"dataframe\">\n",
              "  <thead>\n",
              "    <tr style=\"text-align: right;\">\n",
              "      <th></th>\n",
              "      <th>time</th>\n",
              "      <th>kemendagri_kabupaten_kode</th>\n",
              "      <th>kemendagri_kabupaten_nama</th>\n",
              "      <th>street</th>\n",
              "      <th>level</th>\n",
              "      <th>avg_length</th>\n",
              "      <th>avg_delay</th>\n",
              "      <th>avg_speed_kmh</th>\n",
              "      <th>total_records</th>\n",
              "      <th>id</th>\n",
              "      <th>date</th>\n",
              "      <th>geometry</th>\n",
              "      <th>hour</th>\n",
              "      <th>day</th>\n",
              "    </tr>\n",
              "  </thead>\n",
              "  <tbody>\n",
              "    <tr>\n",
              "      <th>0</th>\n",
              "      <td>2019-05-31 16:00:00</td>\n",
              "      <td>32.73</td>\n",
              "      <td>KOTA BANDUNG</td>\n",
              "      <td>Van Deventer</td>\n",
              "      <td>3</td>\n",
              "      <td>176.0000</td>\n",
              "      <td>106.000000</td>\n",
              "      <td>4.920000</td>\n",
              "      <td>1</td>\n",
              "      <td>11847</td>\n",
              "      <td>2019-05-31</td>\n",
              "      <td>{\"type\": \"LineString\", \"coordinates\": [[107.61...</td>\n",
              "      <td>16</td>\n",
              "      <td>Friday</td>\n",
              "    </tr>\n",
              "    <tr>\n",
              "      <th>1</th>\n",
              "      <td>2019-05-31 23:00:00</td>\n",
              "      <td>32.73</td>\n",
              "      <td>KOTA BANDUNG</td>\n",
              "      <td>HOS Cokroaminoto</td>\n",
              "      <td>3</td>\n",
              "      <td>307.0000</td>\n",
              "      <td>144.000000</td>\n",
              "      <td>6.130000</td>\n",
              "      <td>1</td>\n",
              "      <td>14892</td>\n",
              "      <td>2019-05-31</td>\n",
              "      <td>{\"type\": \"LineString\", \"coordinates\": [[107.59...</td>\n",
              "      <td>23</td>\n",
              "      <td>Friday</td>\n",
              "    </tr>\n",
              "    <tr>\n",
              "      <th>2</th>\n",
              "      <td>2019-05-31 16:00:00</td>\n",
              "      <td>32.73</td>\n",
              "      <td>KOTA BANDUNG</td>\n",
              "      <td>Sukaati</td>\n",
              "      <td>2</td>\n",
              "      <td>207.0000</td>\n",
              "      <td>60.000000</td>\n",
              "      <td>6.110000</td>\n",
              "      <td>1</td>\n",
              "      <td>11803</td>\n",
              "      <td>2019-05-31</td>\n",
              "      <td>{\"type\": \"LineString\", \"coordinates\": [[107.62...</td>\n",
              "      <td>16</td>\n",
              "      <td>Friday</td>\n",
              "    </tr>\n",
              "    <tr>\n",
              "      <th>3</th>\n",
              "      <td>2019-05-31 17:00:00</td>\n",
              "      <td>32.73</td>\n",
              "      <td>KOTA BANDUNG</td>\n",
              "      <td>Cibaduyut Lama</td>\n",
              "      <td>3</td>\n",
              "      <td>220.0000</td>\n",
              "      <td>161.500000</td>\n",
              "      <td>3.931000</td>\n",
              "      <td>10</td>\n",
              "      <td>11941</td>\n",
              "      <td>2019-05-31</td>\n",
              "      <td>{\"type\": \"MultiLineString\", \"coordinates\": [[[...</td>\n",
              "      <td>17</td>\n",
              "      <td>Friday</td>\n",
              "    </tr>\n",
              "    <tr>\n",
              "      <th>4</th>\n",
              "      <td>2019-05-31 17:00:00</td>\n",
              "      <td>32.73</td>\n",
              "      <td>KOTA BANDUNG</td>\n",
              "      <td>Cibaduyut Raya</td>\n",
              "      <td>3</td>\n",
              "      <td>1453.4839</td>\n",
              "      <td>475.612900</td>\n",
              "      <td>8.523226</td>\n",
              "      <td>31</td>\n",
              "      <td>11942</td>\n",
              "      <td>2019-05-31</td>\n",
              "      <td>{\"type\": \"MultiLineString\", \"coordinates\": [[[...</td>\n",
              "      <td>17</td>\n",
              "      <td>Friday</td>\n",
              "    </tr>\n",
              "    <tr>\n",
              "      <th>5</th>\n",
              "      <td>2019-05-31 17:00:00</td>\n",
              "      <td>32.73</td>\n",
              "      <td>KOTA BANDUNG</td>\n",
              "      <td>Cibaduyut Raya</td>\n",
              "      <td>4</td>\n",
              "      <td>1266.6395</td>\n",
              "      <td>822.418600</td>\n",
              "      <td>4.809651</td>\n",
              "      <td>86</td>\n",
              "      <td>11943</td>\n",
              "      <td>2019-05-31</td>\n",
              "      <td>{\"type\": \"MultiLineString\", \"coordinates\": [[[...</td>\n",
              "      <td>17</td>\n",
              "      <td>Friday</td>\n",
              "    </tr>\n",
              "    <tr>\n",
              "      <th>6</th>\n",
              "      <td>2019-05-31 18:00:00</td>\n",
              "      <td>32.73</td>\n",
              "      <td>KOTA BANDUNG</td>\n",
              "      <td>Citayam Raya</td>\n",
              "      <td>2</td>\n",
              "      <td>299.0000</td>\n",
              "      <td>71.000000</td>\n",
              "      <td>8.170000</td>\n",
              "      <td>1</td>\n",
              "      <td>12843</td>\n",
              "      <td>2019-05-31</td>\n",
              "      <td>{\"type\": \"LineString\", \"coordinates\": [[106.80...</td>\n",
              "      <td>18</td>\n",
              "      <td>Friday</td>\n",
              "    </tr>\n",
              "    <tr>\n",
              "      <th>7</th>\n",
              "      <td>2019-05-31 18:00:00</td>\n",
              "      <td>32.73</td>\n",
              "      <td>KOTA BANDUNG</td>\n",
              "      <td>Gatot Subroto</td>\n",
              "      <td>2</td>\n",
              "      <td>1217.0602</td>\n",
              "      <td>100.216866</td>\n",
              "      <td>19.438795</td>\n",
              "      <td>83</td>\n",
              "      <td>12882</td>\n",
              "      <td>2019-05-31</td>\n",
              "      <td>{\"type\": \"MultiLineString\", \"coordinates\": [[[...</td>\n",
              "      <td>18</td>\n",
              "      <td>Friday</td>\n",
              "    </tr>\n",
              "    <tr>\n",
              "      <th>8</th>\n",
              "      <td>2019-05-31 18:00:00</td>\n",
              "      <td>32.73</td>\n",
              "      <td>KOTA BANDUNG</td>\n",
              "      <td>Gatot Subroto</td>\n",
              "      <td>3</td>\n",
              "      <td>770.7159</td>\n",
              "      <td>130.034090</td>\n",
              "      <td>12.962614</td>\n",
              "      <td>88</td>\n",
              "      <td>12883</td>\n",
              "      <td>2019-05-31</td>\n",
              "      <td>{\"type\": \"MultiLineString\", \"coordinates\": [[[...</td>\n",
              "      <td>18</td>\n",
              "      <td>Friday</td>\n",
              "    </tr>\n",
              "    <tr>\n",
              "      <th>9</th>\n",
              "      <td>2019-05-31 18:00:00</td>\n",
              "      <td>32.73</td>\n",
              "      <td>KOTA BANDUNG</td>\n",
              "      <td>Jalan Jurang</td>\n",
              "      <td>2</td>\n",
              "      <td>625.0000</td>\n",
              "      <td>123.500000</td>\n",
              "      <td>9.976666</td>\n",
              "      <td>6</td>\n",
              "      <td>12934</td>\n",
              "      <td>2019-05-31</td>\n",
              "      <td>{\"type\": \"MultiLineString\", \"coordinates\": [[[...</td>\n",
              "      <td>18</td>\n",
              "      <td>Friday</td>\n",
              "    </tr>\n",
              "  </tbody>\n",
              "</table>\n",
              "</div>"
            ],
            "text/plain": [
              "                  time  kemendagri_kabupaten_kode  ... hour     day\n",
              "0  2019-05-31 16:00:00                      32.73  ...   16  Friday\n",
              "1  2019-05-31 23:00:00                      32.73  ...   23  Friday\n",
              "2  2019-05-31 16:00:00                      32.73  ...   16  Friday\n",
              "3  2019-05-31 17:00:00                      32.73  ...   17  Friday\n",
              "4  2019-05-31 17:00:00                      32.73  ...   17  Friday\n",
              "5  2019-05-31 17:00:00                      32.73  ...   17  Friday\n",
              "6  2019-05-31 18:00:00                      32.73  ...   18  Friday\n",
              "7  2019-05-31 18:00:00                      32.73  ...   18  Friday\n",
              "8  2019-05-31 18:00:00                      32.73  ...   18  Friday\n",
              "9  2019-05-31 18:00:00                      32.73  ...   18  Friday\n",
              "\n",
              "[10 rows x 14 columns]"
            ]
          },
          "metadata": {
            "tags": []
          },
          "execution_count": 103
        }
      ]
    },
    {
      "cell_type": "markdown",
      "metadata": {
        "id": "xG4d7X24b5ik"
      },
      "source": [
        "## Transformasi geometry ke nama Sub Wilayah Kota (SWK)"
      ]
    },
    {
      "cell_type": "code",
      "metadata": {
        "colab": {
          "base_uri": "https://localhost:8080/",
          "height": 284
        },
        "id": "LcZwX81acFBC",
        "outputId": "14aa5a21-ac79-41f2-c0cc-3d785e0aef1d"
      },
      "source": [
        "# Pada project ini saya menggunakan data eksternal dari pemerintah Kota Bandung yaitu data batas-batas Sub Wilayah Kota (SWK).\n",
        "# Tujuannya adalah untuk memberikan label pada lokasi kemacetan sesuai dengan SWK, alih-alih menggunakan nama jalan.\n",
        "\n",
        "url = \"http://data.bandung.go.id/dataset/fbec5a0e-2efe-4d37-99ee-7a55d32beb20/resource/0a9aefc2-c849-4fb5-b393-b1687dbe8d70/download/3273-kota-bandung-level-kewilayahan.json\"\n",
        "gdf_swk = geopandas.read_file(url)\n",
        "gdf_swk"
      ],
      "execution_count": 104,
      "outputs": [
        {
          "output_type": "execute_result",
          "data": {
            "text/html": [
              "<div>\n",
              "<style scoped>\n",
              "    .dataframe tbody tr th:only-of-type {\n",
              "        vertical-align: middle;\n",
              "    }\n",
              "\n",
              "    .dataframe tbody tr th {\n",
              "        vertical-align: top;\n",
              "    }\n",
              "\n",
              "    .dataframe thead th {\n",
              "        text-align: right;\n",
              "    }\n",
              "</style>\n",
              "<table border=\"1\" class=\"dataframe\">\n",
              "  <thead>\n",
              "    <tr style=\"text-align: right;\">\n",
              "      <th></th>\n",
              "      <th>id_wilayah</th>\n",
              "      <th>nama_wilayah</th>\n",
              "      <th>geometry</th>\n",
              "    </tr>\n",
              "  </thead>\n",
              "  <tbody>\n",
              "    <tr>\n",
              "      <th>0</th>\n",
              "      <td>5F142D26</td>\n",
              "      <td>Ujungberung</td>\n",
              "      <td>POLYGON ((107.71456 -6.89047, 107.71457 -6.890...</td>\n",
              "    </tr>\n",
              "    <tr>\n",
              "      <th>1</th>\n",
              "      <td>CC7B08F0</td>\n",
              "      <td>Tegallega</td>\n",
              "      <td>POLYGON ((107.56940 -6.91107, 107.56964 -6.911...</td>\n",
              "    </tr>\n",
              "    <tr>\n",
              "      <th>2</th>\n",
              "      <td>BB4C0B50</td>\n",
              "      <td>Kordon</td>\n",
              "      <td>POLYGON ((107.66345 -6.93120, 107.66400 -6.931...</td>\n",
              "    </tr>\n",
              "    <tr>\n",
              "      <th>3</th>\n",
              "      <td>6CE3653D</td>\n",
              "      <td>Karees</td>\n",
              "      <td>POLYGON ((107.65666 -6.90218, 107.65700 -6.902...</td>\n",
              "    </tr>\n",
              "    <tr>\n",
              "      <th>4</th>\n",
              "      <td>932659F2</td>\n",
              "      <td>Cibeunying</td>\n",
              "      <td>POLYGON ((107.60411 -6.84220, 107.60407 -6.842...</td>\n",
              "    </tr>\n",
              "    <tr>\n",
              "      <th>5</th>\n",
              "      <td>7D00F8E4</td>\n",
              "      <td>Bojonagara</td>\n",
              "      <td>POLYGON ((107.59529 -6.84090, 107.59532 -6.840...</td>\n",
              "    </tr>\n",
              "    <tr>\n",
              "      <th>6</th>\n",
              "      <td>0A471A31</td>\n",
              "      <td>Gedebage</td>\n",
              "      <td>POLYGON ((107.68166 -6.93780, 107.68166 -6.937...</td>\n",
              "    </tr>\n",
              "    <tr>\n",
              "      <th>7</th>\n",
              "      <td>B3D12B15</td>\n",
              "      <td>Arcamanik</td>\n",
              "      <td>POLYGON ((107.67346 -6.89192, 107.67349 -6.891...</td>\n",
              "    </tr>\n",
              "  </tbody>\n",
              "</table>\n",
              "</div>"
            ],
            "text/plain": [
              "  id_wilayah nama_wilayah                                           geometry\n",
              "0   5F142D26  Ujungberung  POLYGON ((107.71456 -6.89047, 107.71457 -6.890...\n",
              "1   CC7B08F0    Tegallega  POLYGON ((107.56940 -6.91107, 107.56964 -6.911...\n",
              "2   BB4C0B50       Kordon  POLYGON ((107.66345 -6.93120, 107.66400 -6.931...\n",
              "3   6CE3653D       Karees  POLYGON ((107.65666 -6.90218, 107.65700 -6.902...\n",
              "4   932659F2   Cibeunying  POLYGON ((107.60411 -6.84220, 107.60407 -6.842...\n",
              "5   7D00F8E4   Bojonagara  POLYGON ((107.59529 -6.84090, 107.59532 -6.840...\n",
              "6   0A471A31     Gedebage  POLYGON ((107.68166 -6.93780, 107.68166 -6.937...\n",
              "7   B3D12B15    Arcamanik  POLYGON ((107.67346 -6.89192, 107.67349 -6.891..."
            ]
          },
          "metadata": {
            "tags": []
          },
          "execution_count": 104
        }
      ]
    },
    {
      "cell_type": "code",
      "metadata": {
        "colab": {
          "base_uri": "https://localhost:8080/",
          "height": 551
        },
        "id": "yvrj54W2e8qW",
        "outputId": "467282c9-45a6-4489-a8c7-9525a87b312c"
      },
      "source": [
        "# Standardisasikan kolom geometry agar dapat diproses oleh geopandas\n",
        "\n",
        "df['geometry'] = df['geometry'].apply(lambda x : (json.loads(x)['type'] == 'LineString' and LineString(json.loads(x)['coordinates']) or \n",
        "                                                  json.loads(x)['type'] == 'MultiLineString' and MultiLineString(json.loads(x)['coordinates'])))\n",
        "df.head(5)"
      ],
      "execution_count": 105,
      "outputs": [
        {
          "output_type": "execute_result",
          "data": {
            "text/html": [
              "<div>\n",
              "<style scoped>\n",
              "    .dataframe tbody tr th:only-of-type {\n",
              "        vertical-align: middle;\n",
              "    }\n",
              "\n",
              "    .dataframe tbody tr th {\n",
              "        vertical-align: top;\n",
              "    }\n",
              "\n",
              "    .dataframe thead th {\n",
              "        text-align: right;\n",
              "    }\n",
              "</style>\n",
              "<table border=\"1\" class=\"dataframe\">\n",
              "  <thead>\n",
              "    <tr style=\"text-align: right;\">\n",
              "      <th></th>\n",
              "      <th>time</th>\n",
              "      <th>kemendagri_kabupaten_kode</th>\n",
              "      <th>kemendagri_kabupaten_nama</th>\n",
              "      <th>street</th>\n",
              "      <th>level</th>\n",
              "      <th>avg_length</th>\n",
              "      <th>avg_delay</th>\n",
              "      <th>avg_speed_kmh</th>\n",
              "      <th>total_records</th>\n",
              "      <th>id</th>\n",
              "      <th>date</th>\n",
              "      <th>geometry</th>\n",
              "      <th>hour</th>\n",
              "      <th>day</th>\n",
              "    </tr>\n",
              "  </thead>\n",
              "  <tbody>\n",
              "    <tr>\n",
              "      <th>0</th>\n",
              "      <td>2019-05-31 16:00:00</td>\n",
              "      <td>32.73</td>\n",
              "      <td>KOTA BANDUNG</td>\n",
              "      <td>Van Deventer</td>\n",
              "      <td>3</td>\n",
              "      <td>176.0000</td>\n",
              "      <td>106.0000</td>\n",
              "      <td>4.920000</td>\n",
              "      <td>1</td>\n",
              "      <td>11847</td>\n",
              "      <td>2019-05-31</td>\n",
              "      <td>LINESTRING (107.614892 -6.917784, 107.615278 -...</td>\n",
              "      <td>16</td>\n",
              "      <td>Friday</td>\n",
              "    </tr>\n",
              "    <tr>\n",
              "      <th>1</th>\n",
              "      <td>2019-05-31 23:00:00</td>\n",
              "      <td>32.73</td>\n",
              "      <td>KOTA BANDUNG</td>\n",
              "      <td>HOS Cokroaminoto</td>\n",
              "      <td>3</td>\n",
              "      <td>307.0000</td>\n",
              "      <td>144.0000</td>\n",
              "      <td>6.130000</td>\n",
              "      <td>1</td>\n",
              "      <td>14892</td>\n",
              "      <td>2019-05-31</td>\n",
              "      <td>LINESTRING (107.597441 -6.901219, 107.597453 -...</td>\n",
              "      <td>23</td>\n",
              "      <td>Friday</td>\n",
              "    </tr>\n",
              "    <tr>\n",
              "      <th>2</th>\n",
              "      <td>2019-05-31 16:00:00</td>\n",
              "      <td>32.73</td>\n",
              "      <td>KOTA BANDUNG</td>\n",
              "      <td>Sukaati</td>\n",
              "      <td>2</td>\n",
              "      <td>207.0000</td>\n",
              "      <td>60.0000</td>\n",
              "      <td>6.110000</td>\n",
              "      <td>1</td>\n",
              "      <td>11803</td>\n",
              "      <td>2019-05-31</td>\n",
              "      <td>LINESTRING (107.62308 -6.96115, 107.623086 -6....</td>\n",
              "      <td>16</td>\n",
              "      <td>Friday</td>\n",
              "    </tr>\n",
              "    <tr>\n",
              "      <th>3</th>\n",
              "      <td>2019-05-31 17:00:00</td>\n",
              "      <td>32.73</td>\n",
              "      <td>KOTA BANDUNG</td>\n",
              "      <td>Cibaduyut Lama</td>\n",
              "      <td>3</td>\n",
              "      <td>220.0000</td>\n",
              "      <td>161.5000</td>\n",
              "      <td>3.931000</td>\n",
              "      <td>10</td>\n",
              "      <td>11941</td>\n",
              "      <td>2019-05-31</td>\n",
              "      <td>(LINESTRING (107.5924 -6.948026, 107.592741 -6...</td>\n",
              "      <td>17</td>\n",
              "      <td>Friday</td>\n",
              "    </tr>\n",
              "    <tr>\n",
              "      <th>4</th>\n",
              "      <td>2019-05-31 17:00:00</td>\n",
              "      <td>32.73</td>\n",
              "      <td>KOTA BANDUNG</td>\n",
              "      <td>Cibaduyut Raya</td>\n",
              "      <td>3</td>\n",
              "      <td>1453.4839</td>\n",
              "      <td>475.6129</td>\n",
              "      <td>8.523226</td>\n",
              "      <td>31</td>\n",
              "      <td>11942</td>\n",
              "      <td>2019-05-31</td>\n",
              "      <td>(LINESTRING (107.593294 -6.953205, 107.593288 ...</td>\n",
              "      <td>17</td>\n",
              "      <td>Friday</td>\n",
              "    </tr>\n",
              "  </tbody>\n",
              "</table>\n",
              "</div>"
            ],
            "text/plain": [
              "                  time  kemendagri_kabupaten_kode  ... hour     day\n",
              "0  2019-05-31 16:00:00                      32.73  ...   16  Friday\n",
              "1  2019-05-31 23:00:00                      32.73  ...   23  Friday\n",
              "2  2019-05-31 16:00:00                      32.73  ...   16  Friday\n",
              "3  2019-05-31 17:00:00                      32.73  ...   17  Friday\n",
              "4  2019-05-31 17:00:00                      32.73  ...   17  Friday\n",
              "\n",
              "[5 rows x 14 columns]"
            ]
          },
          "metadata": {
            "tags": []
          },
          "execution_count": 105
        }
      ]
    },
    {
      "cell_type": "code",
      "metadata": {
        "colab": {
          "base_uri": "https://localhost:8080/",
          "height": 195
        },
        "id": "GgNgtZBhf_Uo",
        "outputId": "942b424c-3e77-436b-e349-73ca47c2e878"
      },
      "source": [
        "# Nyatakan lokasi jalan dalam centroid. Centroid digunakan untuk mewakili lokasi kemacetan.\n",
        "\n",
        "d = {'street': list(df['street']), 'geometry': list(df['geometry'])}\n",
        "gdf = geopandas.GeoDataFrame(d, crs=\"EPSG:3395\")\n",
        "gdf['centroid'] = gdf.centroid\n",
        "gdf.head(5)"
      ],
      "execution_count": 106,
      "outputs": [
        {
          "output_type": "execute_result",
          "data": {
            "text/html": [
              "<div>\n",
              "<style scoped>\n",
              "    .dataframe tbody tr th:only-of-type {\n",
              "        vertical-align: middle;\n",
              "    }\n",
              "\n",
              "    .dataframe tbody tr th {\n",
              "        vertical-align: top;\n",
              "    }\n",
              "\n",
              "    .dataframe thead th {\n",
              "        text-align: right;\n",
              "    }\n",
              "</style>\n",
              "<table border=\"1\" class=\"dataframe\">\n",
              "  <thead>\n",
              "    <tr style=\"text-align: right;\">\n",
              "      <th></th>\n",
              "      <th>street</th>\n",
              "      <th>geometry</th>\n",
              "      <th>centroid</th>\n",
              "    </tr>\n",
              "  </thead>\n",
              "  <tbody>\n",
              "    <tr>\n",
              "      <th>0</th>\n",
              "      <td>Van Deventer</td>\n",
              "      <td>LINESTRING (107.61489 -6.91778, 107.61528 -6.9...</td>\n",
              "      <td>POINT (107.61555 -6.91734)</td>\n",
              "    </tr>\n",
              "    <tr>\n",
              "      <th>1</th>\n",
              "      <td>HOS Cokroaminoto</td>\n",
              "      <td>LINESTRING (107.59744 -6.90122, 107.59745 -6.9...</td>\n",
              "      <td>POINT (107.59748 -6.90261)</td>\n",
              "    </tr>\n",
              "    <tr>\n",
              "      <th>2</th>\n",
              "      <td>Sukaati</td>\n",
              "      <td>LINESTRING (107.62308 -6.96115, 107.62309 -6.9...</td>\n",
              "      <td>POINT (107.62304 -6.96022)</td>\n",
              "    </tr>\n",
              "    <tr>\n",
              "      <th>3</th>\n",
              "      <td>Cibaduyut Lama</td>\n",
              "      <td>MULTILINESTRING ((107.59240 -6.94803, 107.5927...</td>\n",
              "      <td>POINT (107.59335 -6.94835)</td>\n",
              "    </tr>\n",
              "    <tr>\n",
              "      <th>4</th>\n",
              "      <td>Cibaduyut Raya</td>\n",
              "      <td>MULTILINESTRING ((107.59329 -6.95320, 107.5932...</td>\n",
              "      <td>POINT (107.59361 -6.95480)</td>\n",
              "    </tr>\n",
              "  </tbody>\n",
              "</table>\n",
              "</div>"
            ],
            "text/plain": [
              "             street  ...                    centroid\n",
              "0      Van Deventer  ...  POINT (107.61555 -6.91734)\n",
              "1  HOS Cokroaminoto  ...  POINT (107.59748 -6.90261)\n",
              "2           Sukaati  ...  POINT (107.62304 -6.96022)\n",
              "3    Cibaduyut Lama  ...  POINT (107.59335 -6.94835)\n",
              "4    Cibaduyut Raya  ...  POINT (107.59361 -6.95480)\n",
              "\n",
              "[5 rows x 3 columns]"
            ]
          },
          "metadata": {
            "tags": []
          },
          "execution_count": 106
        }
      ]
    },
    {
      "cell_type": "code",
      "metadata": {
        "colab": {
          "base_uri": "https://localhost:8080/",
          "height": 467
        },
        "id": "VrnRVa22gmLJ",
        "outputId": "90f01d40-1d09-4d96-85bc-030f90dafd6c"
      },
      "source": [
        "# Cek centroid masuk ke dalam SWK mana\n",
        "\n",
        "swk_list = list(gdf_swk['nama_wilayah'])\n",
        "for i in range(len(swk_list)):\n",
        "  gdf[\"wilayah_\"+swk_list[i]] = gdf[\"centroid\"].within(gdf_swk['geometry'][i]).astype('int')\n",
        "\n",
        "def get_wilayah(row):\n",
        "  for c in gdf.iloc[:, 3:].columns:\n",
        "    if row[c]==1:\n",
        "      return c[8:]\n",
        "\n",
        "gdf[\"wilayah\"] = gdf.iloc[:, 3:].apply(get_wilayah, axis=1)\n",
        "gdf.head(5)"
      ],
      "execution_count": 107,
      "outputs": [
        {
          "output_type": "execute_result",
          "data": {
            "text/html": [
              "<div>\n",
              "<style scoped>\n",
              "    .dataframe tbody tr th:only-of-type {\n",
              "        vertical-align: middle;\n",
              "    }\n",
              "\n",
              "    .dataframe tbody tr th {\n",
              "        vertical-align: top;\n",
              "    }\n",
              "\n",
              "    .dataframe thead th {\n",
              "        text-align: right;\n",
              "    }\n",
              "</style>\n",
              "<table border=\"1\" class=\"dataframe\">\n",
              "  <thead>\n",
              "    <tr style=\"text-align: right;\">\n",
              "      <th></th>\n",
              "      <th>street</th>\n",
              "      <th>geometry</th>\n",
              "      <th>centroid</th>\n",
              "      <th>wilayah_Ujungberung</th>\n",
              "      <th>wilayah_Tegallega</th>\n",
              "      <th>wilayah_Kordon</th>\n",
              "      <th>wilayah_Karees</th>\n",
              "      <th>wilayah_Cibeunying</th>\n",
              "      <th>wilayah_Bojonagara</th>\n",
              "      <th>wilayah_Gedebage</th>\n",
              "      <th>wilayah_Arcamanik</th>\n",
              "      <th>wilayah</th>\n",
              "    </tr>\n",
              "  </thead>\n",
              "  <tbody>\n",
              "    <tr>\n",
              "      <th>0</th>\n",
              "      <td>Van Deventer</td>\n",
              "      <td>LINESTRING (107.61489 -6.91778, 107.61528 -6.9...</td>\n",
              "      <td>POINT (107.61555 -6.91734)</td>\n",
              "      <td>0</td>\n",
              "      <td>0</td>\n",
              "      <td>0</td>\n",
              "      <td>0</td>\n",
              "      <td>1</td>\n",
              "      <td>0</td>\n",
              "      <td>0</td>\n",
              "      <td>0</td>\n",
              "      <td>Cibeunying</td>\n",
              "    </tr>\n",
              "    <tr>\n",
              "      <th>1</th>\n",
              "      <td>HOS Cokroaminoto</td>\n",
              "      <td>LINESTRING (107.59744 -6.90122, 107.59745 -6.9...</td>\n",
              "      <td>POINT (107.59748 -6.90261)</td>\n",
              "      <td>0</td>\n",
              "      <td>0</td>\n",
              "      <td>0</td>\n",
              "      <td>0</td>\n",
              "      <td>0</td>\n",
              "      <td>1</td>\n",
              "      <td>0</td>\n",
              "      <td>0</td>\n",
              "      <td>Bojonagara</td>\n",
              "    </tr>\n",
              "    <tr>\n",
              "      <th>2</th>\n",
              "      <td>Sukaati</td>\n",
              "      <td>LINESTRING (107.62308 -6.96115, 107.62309 -6.9...</td>\n",
              "      <td>POINT (107.62304 -6.96022)</td>\n",
              "      <td>0</td>\n",
              "      <td>0</td>\n",
              "      <td>1</td>\n",
              "      <td>0</td>\n",
              "      <td>0</td>\n",
              "      <td>0</td>\n",
              "      <td>0</td>\n",
              "      <td>0</td>\n",
              "      <td>Kordon</td>\n",
              "    </tr>\n",
              "    <tr>\n",
              "      <th>3</th>\n",
              "      <td>Cibaduyut Lama</td>\n",
              "      <td>MULTILINESTRING ((107.59240 -6.94803, 107.5927...</td>\n",
              "      <td>POINT (107.59335 -6.94835)</td>\n",
              "      <td>0</td>\n",
              "      <td>1</td>\n",
              "      <td>0</td>\n",
              "      <td>0</td>\n",
              "      <td>0</td>\n",
              "      <td>0</td>\n",
              "      <td>0</td>\n",
              "      <td>0</td>\n",
              "      <td>Tegallega</td>\n",
              "    </tr>\n",
              "    <tr>\n",
              "      <th>4</th>\n",
              "      <td>Cibaduyut Raya</td>\n",
              "      <td>MULTILINESTRING ((107.59329 -6.95320, 107.5932...</td>\n",
              "      <td>POINT (107.59361 -6.95480)</td>\n",
              "      <td>0</td>\n",
              "      <td>1</td>\n",
              "      <td>0</td>\n",
              "      <td>0</td>\n",
              "      <td>0</td>\n",
              "      <td>0</td>\n",
              "      <td>0</td>\n",
              "      <td>0</td>\n",
              "      <td>Tegallega</td>\n",
              "    </tr>\n",
              "  </tbody>\n",
              "</table>\n",
              "</div>"
            ],
            "text/plain": [
              "             street  ...     wilayah\n",
              "0      Van Deventer  ...  Cibeunying\n",
              "1  HOS Cokroaminoto  ...  Bojonagara\n",
              "2           Sukaati  ...      Kordon\n",
              "3    Cibaduyut Lama  ...   Tegallega\n",
              "4    Cibaduyut Raya  ...   Tegallega\n",
              "\n",
              "[5 rows x 12 columns]"
            ]
          },
          "metadata": {
            "tags": []
          },
          "execution_count": 107
        }
      ]
    },
    {
      "cell_type": "code",
      "metadata": {
        "colab": {
          "base_uri": "https://localhost:8080/",
          "height": 551
        },
        "id": "0mFQ3BjbhF0i",
        "outputId": "07706e12-f42b-400c-8541-4f1178f19188"
      },
      "source": [
        "# Jika kolom Wilayah tidak empty, maka tempat obesrvasi tersebut tervalidasi merupakan bagian dari Kota Bandung menurut situs\n",
        "# http://data.bandung.go.id/dataset/data-spasial-sub-wilayah-kota-bandung/resource/0a9aefc2-c849-4fb5-b393-b1687dbe8d70?view_id=c0d828a7-0aae-4fe8-ae70-591c8ea1f1de\n",
        "# Pada tahap ini akan dilakukan proses removal pada missing values supaya data benar-benar berisi lokasi kemacetan di Kota Bandung.\n",
        "\n",
        "for col in gdf.iloc[:, 3:].columns:\n",
        "  df[col] = gdf[col]\n",
        "\n",
        "df = df.dropna() # mengeluarkan observasi yang bukan termasuk kota Bandung\n",
        "df.head(5)"
      ],
      "execution_count": 108,
      "outputs": [
        {
          "output_type": "execute_result",
          "data": {
            "text/html": [
              "<div>\n",
              "<style scoped>\n",
              "    .dataframe tbody tr th:only-of-type {\n",
              "        vertical-align: middle;\n",
              "    }\n",
              "\n",
              "    .dataframe tbody tr th {\n",
              "        vertical-align: top;\n",
              "    }\n",
              "\n",
              "    .dataframe thead th {\n",
              "        text-align: right;\n",
              "    }\n",
              "</style>\n",
              "<table border=\"1\" class=\"dataframe\">\n",
              "  <thead>\n",
              "    <tr style=\"text-align: right;\">\n",
              "      <th></th>\n",
              "      <th>time</th>\n",
              "      <th>kemendagri_kabupaten_kode</th>\n",
              "      <th>kemendagri_kabupaten_nama</th>\n",
              "      <th>street</th>\n",
              "      <th>level</th>\n",
              "      <th>avg_length</th>\n",
              "      <th>avg_delay</th>\n",
              "      <th>avg_speed_kmh</th>\n",
              "      <th>total_records</th>\n",
              "      <th>id</th>\n",
              "      <th>date</th>\n",
              "      <th>geometry</th>\n",
              "      <th>hour</th>\n",
              "      <th>day</th>\n",
              "      <th>wilayah_Ujungberung</th>\n",
              "      <th>wilayah_Tegallega</th>\n",
              "      <th>wilayah_Kordon</th>\n",
              "      <th>wilayah_Karees</th>\n",
              "      <th>wilayah_Cibeunying</th>\n",
              "      <th>wilayah_Bojonagara</th>\n",
              "      <th>wilayah_Gedebage</th>\n",
              "      <th>wilayah_Arcamanik</th>\n",
              "      <th>wilayah</th>\n",
              "    </tr>\n",
              "  </thead>\n",
              "  <tbody>\n",
              "    <tr>\n",
              "      <th>0</th>\n",
              "      <td>2019-05-31 16:00:00</td>\n",
              "      <td>32.73</td>\n",
              "      <td>KOTA BANDUNG</td>\n",
              "      <td>Van Deventer</td>\n",
              "      <td>3</td>\n",
              "      <td>176.0000</td>\n",
              "      <td>106.0000</td>\n",
              "      <td>4.920000</td>\n",
              "      <td>1</td>\n",
              "      <td>11847</td>\n",
              "      <td>2019-05-31</td>\n",
              "      <td>LINESTRING (107.614892 -6.917784, 107.615278 -...</td>\n",
              "      <td>16</td>\n",
              "      <td>Friday</td>\n",
              "      <td>0</td>\n",
              "      <td>0</td>\n",
              "      <td>0</td>\n",
              "      <td>0</td>\n",
              "      <td>1</td>\n",
              "      <td>0</td>\n",
              "      <td>0</td>\n",
              "      <td>0</td>\n",
              "      <td>Cibeunying</td>\n",
              "    </tr>\n",
              "    <tr>\n",
              "      <th>1</th>\n",
              "      <td>2019-05-31 23:00:00</td>\n",
              "      <td>32.73</td>\n",
              "      <td>KOTA BANDUNG</td>\n",
              "      <td>HOS Cokroaminoto</td>\n",
              "      <td>3</td>\n",
              "      <td>307.0000</td>\n",
              "      <td>144.0000</td>\n",
              "      <td>6.130000</td>\n",
              "      <td>1</td>\n",
              "      <td>14892</td>\n",
              "      <td>2019-05-31</td>\n",
              "      <td>LINESTRING (107.597441 -6.901219, 107.597453 -...</td>\n",
              "      <td>23</td>\n",
              "      <td>Friday</td>\n",
              "      <td>0</td>\n",
              "      <td>0</td>\n",
              "      <td>0</td>\n",
              "      <td>0</td>\n",
              "      <td>0</td>\n",
              "      <td>1</td>\n",
              "      <td>0</td>\n",
              "      <td>0</td>\n",
              "      <td>Bojonagara</td>\n",
              "    </tr>\n",
              "    <tr>\n",
              "      <th>2</th>\n",
              "      <td>2019-05-31 16:00:00</td>\n",
              "      <td>32.73</td>\n",
              "      <td>KOTA BANDUNG</td>\n",
              "      <td>Sukaati</td>\n",
              "      <td>2</td>\n",
              "      <td>207.0000</td>\n",
              "      <td>60.0000</td>\n",
              "      <td>6.110000</td>\n",
              "      <td>1</td>\n",
              "      <td>11803</td>\n",
              "      <td>2019-05-31</td>\n",
              "      <td>LINESTRING (107.62308 -6.96115, 107.623086 -6....</td>\n",
              "      <td>16</td>\n",
              "      <td>Friday</td>\n",
              "      <td>0</td>\n",
              "      <td>0</td>\n",
              "      <td>1</td>\n",
              "      <td>0</td>\n",
              "      <td>0</td>\n",
              "      <td>0</td>\n",
              "      <td>0</td>\n",
              "      <td>0</td>\n",
              "      <td>Kordon</td>\n",
              "    </tr>\n",
              "    <tr>\n",
              "      <th>3</th>\n",
              "      <td>2019-05-31 17:00:00</td>\n",
              "      <td>32.73</td>\n",
              "      <td>KOTA BANDUNG</td>\n",
              "      <td>Cibaduyut Lama</td>\n",
              "      <td>3</td>\n",
              "      <td>220.0000</td>\n",
              "      <td>161.5000</td>\n",
              "      <td>3.931000</td>\n",
              "      <td>10</td>\n",
              "      <td>11941</td>\n",
              "      <td>2019-05-31</td>\n",
              "      <td>(LINESTRING (107.5924 -6.948026, 107.592741 -6...</td>\n",
              "      <td>17</td>\n",
              "      <td>Friday</td>\n",
              "      <td>0</td>\n",
              "      <td>1</td>\n",
              "      <td>0</td>\n",
              "      <td>0</td>\n",
              "      <td>0</td>\n",
              "      <td>0</td>\n",
              "      <td>0</td>\n",
              "      <td>0</td>\n",
              "      <td>Tegallega</td>\n",
              "    </tr>\n",
              "    <tr>\n",
              "      <th>4</th>\n",
              "      <td>2019-05-31 17:00:00</td>\n",
              "      <td>32.73</td>\n",
              "      <td>KOTA BANDUNG</td>\n",
              "      <td>Cibaduyut Raya</td>\n",
              "      <td>3</td>\n",
              "      <td>1453.4839</td>\n",
              "      <td>475.6129</td>\n",
              "      <td>8.523226</td>\n",
              "      <td>31</td>\n",
              "      <td>11942</td>\n",
              "      <td>2019-05-31</td>\n",
              "      <td>(LINESTRING (107.593294 -6.953205, 107.593288 ...</td>\n",
              "      <td>17</td>\n",
              "      <td>Friday</td>\n",
              "      <td>0</td>\n",
              "      <td>1</td>\n",
              "      <td>0</td>\n",
              "      <td>0</td>\n",
              "      <td>0</td>\n",
              "      <td>0</td>\n",
              "      <td>0</td>\n",
              "      <td>0</td>\n",
              "      <td>Tegallega</td>\n",
              "    </tr>\n",
              "  </tbody>\n",
              "</table>\n",
              "</div>"
            ],
            "text/plain": [
              "                  time  ...     wilayah\n",
              "0  2019-05-31 16:00:00  ...  Cibeunying\n",
              "1  2019-05-31 23:00:00  ...  Bojonagara\n",
              "2  2019-05-31 16:00:00  ...      Kordon\n",
              "3  2019-05-31 17:00:00  ...   Tegallega\n",
              "4  2019-05-31 17:00:00  ...   Tegallega\n",
              "\n",
              "[5 rows x 23 columns]"
            ]
          },
          "metadata": {
            "tags": []
          },
          "execution_count": 108
        }
      ]
    },
    {
      "cell_type": "markdown",
      "metadata": {
        "id": "4ERFghyW2Nij"
      },
      "source": [
        "## Di jam berapa level kemacetan tercatat tinggi?"
      ]
    },
    {
      "cell_type": "markdown",
      "metadata": {
        "id": "HYODEfzWg8tY"
      },
      "source": [
        "Akan dilakukan perhitungan observasi kemacetan menurut jam. Hasilnya adalah sebagai berikut:"
      ]
    },
    {
      "cell_type": "code",
      "metadata": {
        "colab": {
          "base_uri": "https://localhost:8080/"
        },
        "id": "vav_U8bx4PSb",
        "outputId": "f56699f9-635d-4965-a2d5-6b79a896b298"
      },
      "source": [
        "df[df['level'] == 5].groupby(['hour']).count()['level'].sort_values(ascending=False).head(5)"
      ],
      "execution_count": 109,
      "outputs": [
        {
          "output_type": "execute_result",
          "data": {
            "text/plain": [
              "hour\n",
              "20    11\n",
              "17    10\n",
              "23     9\n",
              "21     9\n",
              "19     9\n",
              "Name: level, dtype: int64"
            ]
          },
          "metadata": {
            "tags": []
          },
          "execution_count": 109
        }
      ]
    },
    {
      "cell_type": "code",
      "metadata": {
        "colab": {
          "base_uri": "https://localhost:8080/"
        },
        "id": "uGkVyXfEAkVn",
        "outputId": "28aa1452-8e26-40fd-92e5-3a733d24747a"
      },
      "source": [
        "df[df['level'] == 4].groupby(['hour']).count()['level'].sort_values(ascending=False).head(5)"
      ],
      "execution_count": 110,
      "outputs": [
        {
          "output_type": "execute_result",
          "data": {
            "text/plain": [
              "hour\n",
              "17    1686\n",
              "16    1471\n",
              "14    1350\n",
              "11    1299\n",
              "13    1224\n",
              "Name: level, dtype: int64"
            ]
          },
          "metadata": {
            "tags": []
          },
          "execution_count": 110
        }
      ]
    },
    {
      "cell_type": "code",
      "metadata": {
        "colab": {
          "base_uri": "https://localhost:8080/"
        },
        "id": "7D_WdZAQAntA",
        "outputId": "fe18d899-42d3-48e7-e42a-24d4c979256a"
      },
      "source": [
        "df[df['level'] == 3].groupby(['hour']).count()['level'].sort_values(ascending=False).head(5)"
      ],
      "execution_count": 111,
      "outputs": [
        {
          "output_type": "execute_result",
          "data": {
            "text/plain": [
              "hour\n",
              "17    2980\n",
              "16    2697\n",
              "14    2496\n",
              "13    2455\n",
              "11    2325\n",
              "Name: level, dtype: int64"
            ]
          },
          "metadata": {
            "tags": []
          },
          "execution_count": 111
        }
      ]
    },
    {
      "cell_type": "code",
      "metadata": {
        "colab": {
          "base_uri": "https://localhost:8080/"
        },
        "id": "msFRjCAxA1-G",
        "outputId": "f164e7e9-83fb-47f9-d533-8ab0f906ef24"
      },
      "source": [
        "df[df['level'] == 2].groupby(['hour']).count()['level'].sort_values(ascending=False).head(5)"
      ],
      "execution_count": 112,
      "outputs": [
        {
          "output_type": "execute_result",
          "data": {
            "text/plain": [
              "hour\n",
              "17    2644\n",
              "16    2433\n",
              "14    2247\n",
              "13    2232\n",
              "18    2190\n",
              "Name: level, dtype: int64"
            ]
          },
          "metadata": {
            "tags": []
          },
          "execution_count": 112
        }
      ]
    },
    {
      "cell_type": "code",
      "metadata": {
        "colab": {
          "base_uri": "https://localhost:8080/"
        },
        "id": "1Gqijz6kBB5D",
        "outputId": "08b90d3e-2692-462e-e9cc-e4fffed39415"
      },
      "source": [
        "df[df['level'] == 1].groupby(['hour']).count()['level'].sort_values(ascending=False).head(5)"
      ],
      "execution_count": 113,
      "outputs": [
        {
          "output_type": "execute_result",
          "data": {
            "text/plain": [
              "hour\n",
              "17    1016\n",
              "18     957\n",
              "16     939\n",
              "19     931\n",
              "14     857\n",
              "Name: level, dtype: int64"
            ]
          },
          "metadata": {
            "tags": []
          },
          "execution_count": 113
        }
      ]
    },
    {
      "cell_type": "markdown",
      "metadata": {
        "id": "oEZIExIdBQiT"
      },
      "source": [
        "### Insight\n",
        "* Pukul 5 sore menjadi waktu yang selalu tercatat di semua level kemacetan, disarankan untuk tidak berkendara di jam tersebut.\n",
        "* Terdapat kelompok jam yang sama pada _top 5 hours_ dari level kemacetan level 3 dan 4, hindari berkendara pada pukul 2 siang hingga 5 sore dan juga pukul 11 siang."
      ]
    },
    {
      "cell_type": "markdown",
      "metadata": {
        "id": "gRaiI-d539jl"
      },
      "source": [
        "## Di hari dan pukul berapa level kemacetan tercatat tinggi?"
      ]
    },
    {
      "cell_type": "markdown",
      "metadata": {
        "id": "9xg-3IB5hG5B"
      },
      "source": [
        "Setelah dilakukan perhitungan observasi kemacetan menurut jam, pada bagian ini akan ditambah faktor hari. Hasilnya adalah sebagai berikut:"
      ]
    },
    {
      "cell_type": "code",
      "metadata": {
        "colab": {
          "base_uri": "https://localhost:8080/"
        },
        "id": "EYKdm--G5dXV",
        "outputId": "8ca99110-cd13-448e-d638-399e03ff2ea3"
      },
      "source": [
        "df[df['level'] == 5].groupby(['day', 'hour']).count()['level'].sort_values(ascending=False).head(5)"
      ],
      "execution_count": 114,
      "outputs": [
        {
          "output_type": "execute_result",
          "data": {
            "text/plain": [
              "day       hour\n",
              "Saturday  17      4\n",
              "          20      3\n",
              "Sunday    21      2\n",
              "          18      2\n",
              "Saturday  16      2\n",
              "Name: level, dtype: int64"
            ]
          },
          "metadata": {
            "tags": []
          },
          "execution_count": 114
        }
      ]
    },
    {
      "cell_type": "code",
      "metadata": {
        "colab": {
          "base_uri": "https://localhost:8080/"
        },
        "id": "-HOOWR_XKqiA",
        "outputId": "8e9e9a39-4272-414b-db3e-06ad21381d0e"
      },
      "source": [
        "df[df['level'] == 4].groupby(['day', 'hour']).count()['level'].sort_values(ascending=False).head(5)"
      ],
      "execution_count": 115,
      "outputs": [
        {
          "output_type": "execute_result",
          "data": {
            "text/plain": [
              "day       hour\n",
              "Friday    17      333\n",
              "Saturday  17      269\n",
              "          16      264\n",
              "Friday    16      259\n",
              "Saturday  14      259\n",
              "Name: level, dtype: int64"
            ]
          },
          "metadata": {
            "tags": []
          },
          "execution_count": 115
        }
      ]
    },
    {
      "cell_type": "code",
      "metadata": {
        "colab": {
          "base_uri": "https://localhost:8080/"
        },
        "id": "9lY-gm7sKtOk",
        "outputId": "d47426b0-cb16-463d-a38b-a4e3862dd032"
      },
      "source": [
        "df[df['level'] == 3].groupby(['day', 'hour']).count()['level'].sort_values(ascending=False).head(5)"
      ],
      "execution_count": 116,
      "outputs": [
        {
          "output_type": "execute_result",
          "data": {
            "text/plain": [
              "day       hour\n",
              "Friday    17      520\n",
              "Monday    17      470\n",
              "Saturday  16      466\n",
              "          17      452\n",
              "          14      429\n",
              "Name: level, dtype: int64"
            ]
          },
          "metadata": {
            "tags": []
          },
          "execution_count": 116
        }
      ]
    },
    {
      "cell_type": "code",
      "metadata": {
        "colab": {
          "base_uri": "https://localhost:8080/"
        },
        "id": "p8pKEYrPKwDP",
        "outputId": "9563604a-7043-4bea-b2a3-dc5a06fc68ef"
      },
      "source": [
        "df[df['level'] == 2].groupby(['day', 'hour']).count()['level'].sort_values(ascending=False).head(5)"
      ],
      "execution_count": 117,
      "outputs": [
        {
          "output_type": "execute_result",
          "data": {
            "text/plain": [
              "day       hour\n",
              "Friday    17      424\n",
              "Saturday  17      418\n",
              "Monday    16      401\n",
              "          17      397\n",
              "Saturday  16      389\n",
              "Name: level, dtype: int64"
            ]
          },
          "metadata": {
            "tags": []
          },
          "execution_count": 117
        }
      ]
    },
    {
      "cell_type": "code",
      "metadata": {
        "colab": {
          "base_uri": "https://localhost:8080/"
        },
        "id": "7sOnj9BfKyRb",
        "outputId": "34c324b5-ced8-4186-ea58-50f5c7af9f1b"
      },
      "source": [
        "df[df['level'] == 1].groupby(['day', 'hour']).count()['level'].sort_values(ascending=False).head(5)"
      ],
      "execution_count": 118,
      "outputs": [
        {
          "output_type": "execute_result",
          "data": {
            "text/plain": [
              "day       hour\n",
              "Saturday  17      184\n",
              "          19      162\n",
              "          16      158\n",
              "Friday    18      151\n",
              "Saturday  18      151\n",
              "Name: level, dtype: int64"
            ]
          },
          "metadata": {
            "tags": []
          },
          "execution_count": 118
        }
      ]
    },
    {
      "cell_type": "markdown",
      "metadata": {
        "id": "FMYx9RT5ZW8W"
      },
      "source": [
        "### Insight\n",
        "\n",
        "* _Top 5 hours_ pada level kemacetan level 5 terjadi pada akhir pekan di kisaran pukul 4 hingga 6 sore dan pukul 8 hingga 9 malam, hindari berkendara pada waktu-waktu tersebut.\n",
        "* Hari Jumat pukul 5 sore mencatatkan level kemacetan level 2-4 dengan jumlah kejadian tertinggi.\n",
        "* Pada level kemacetan level 1, jumlah terbanyak ditunjukkan pada hari Sabtu pukul 4 sore hingga 7 malam, mengindikasikan bahwa level kemacetan cenderung menurun di sore menjelang malam."
      ]
    },
    {
      "cell_type": "markdown",
      "metadata": {
        "id": "OBEnLQAvdJQd"
      },
      "source": [
        "## Analisis lanjutan: Wilayah Kemacetan"
      ]
    },
    {
      "cell_type": "markdown",
      "metadata": {
        "id": "YV82Mq6dhY5N"
      },
      "source": [
        "Analisis lanjutan dari jam dan hari dengan memasukkan faktor wilayah. Hasilnya adalah sebagai berikut:"
      ]
    },
    {
      "cell_type": "code",
      "metadata": {
        "colab": {
          "base_uri": "https://localhost:8080/"
        },
        "id": "IkQSjDKndZbS",
        "outputId": "c0abb26e-5c2a-4f4e-b4eb-c830c23b5811"
      },
      "source": [
        "df[df['level'] == 5].groupby(['day', 'hour', 'wilayah']).count()['level'].sort_values(ascending=False).head(5)"
      ],
      "execution_count": 119,
      "outputs": [
        {
          "output_type": "execute_result",
          "data": {
            "text/plain": [
              "day       hour  wilayah   \n",
              "Saturday  17    Cibeunying    3\n",
              "Sunday    20    Cibeunying    2\n",
              "          16    Cibeunying    2\n",
              "Saturday  16    Cibeunying    2\n",
              "          18    Cibeunying    2\n",
              "Name: level, dtype: int64"
            ]
          },
          "metadata": {
            "tags": []
          },
          "execution_count": 119
        }
      ]
    },
    {
      "cell_type": "code",
      "metadata": {
        "colab": {
          "base_uri": "https://localhost:8080/"
        },
        "id": "YXu8lAVidgve",
        "outputId": "8f1c84e3-9d4a-4e0f-ce11-2f4004bc14f2"
      },
      "source": [
        "df[df['level'] == 4].groupby(['day', 'hour', 'wilayah']).count()['level'].sort_values(ascending=False).head(5)"
      ],
      "execution_count": 120,
      "outputs": [
        {
          "output_type": "execute_result",
          "data": {
            "text/plain": [
              "day       hour  wilayah   \n",
              "Friday    17    Cibeunying    96\n",
              "Saturday  14    Cibeunying    93\n",
              "          20    Cibeunying    88\n",
              "          19    Cibeunying    88\n",
              "Friday    17    Bojonagara    87\n",
              "Name: level, dtype: int64"
            ]
          },
          "metadata": {
            "tags": []
          },
          "execution_count": 120
        }
      ]
    },
    {
      "cell_type": "code",
      "metadata": {
        "colab": {
          "base_uri": "https://localhost:8080/"
        },
        "id": "htFcTj5pdnsr",
        "outputId": "fabbce51-a6a6-42a3-8d6c-932e5f8ca75c"
      },
      "source": [
        "df[df['level'] == 3].groupby(['day', 'hour', 'wilayah']).count()['level'].sort_values(ascending=False).head(5)"
      ],
      "execution_count": 121,
      "outputs": [
        {
          "output_type": "execute_result",
          "data": {
            "text/plain": [
              "day       hour  wilayah   \n",
              "Friday    17    Cibeunying    166\n",
              "Saturday  14    Cibeunying    152\n",
              "          19    Cibeunying    148\n",
              "          13    Cibeunying    147\n",
              "Monday    14    Cibeunying    147\n",
              "Name: level, dtype: int64"
            ]
          },
          "metadata": {
            "tags": []
          },
          "execution_count": 121
        }
      ]
    },
    {
      "cell_type": "code",
      "metadata": {
        "colab": {
          "base_uri": "https://localhost:8080/"
        },
        "id": "EJnt-yOddqqW",
        "outputId": "230d4008-b0bf-4e8d-ce19-b39c3d967eab"
      },
      "source": [
        "df[df['level'] == 2].groupby(['day', 'hour', 'wilayah']).count()['level'].sort_values(ascending=False).head(5)"
      ],
      "execution_count": 122,
      "outputs": [
        {
          "output_type": "execute_result",
          "data": {
            "text/plain": [
              "day       hour  wilayah   \n",
              "Friday    17    Cibeunying    138\n",
              "Saturday  19    Cibeunying    127\n",
              "          14    Cibeunying    125\n",
              "          20    Cibeunying    124\n",
              "Monday    13    Cibeunying    122\n",
              "Name: level, dtype: int64"
            ]
          },
          "metadata": {
            "tags": []
          },
          "execution_count": 122
        }
      ]
    },
    {
      "cell_type": "code",
      "metadata": {
        "colab": {
          "base_uri": "https://localhost:8080/"
        },
        "id": "YTGEHmGbduDS",
        "outputId": "132d221a-5606-4120-de7e-98ccc2eb5ab0"
      },
      "source": [
        "df[df['level'] == 1].groupby(['day', 'hour', 'wilayah']).count()['level'].sort_values(ascending=False).head(5)"
      ],
      "execution_count": 123,
      "outputs": [
        {
          "output_type": "execute_result",
          "data": {
            "text/plain": [
              "day       hour  wilayah   \n",
              "Saturday  17    Cibeunying    60\n",
              "Sunday    17    Cibeunying    52\n",
              "Friday    18    Cibeunying    48\n",
              "          17    Cibeunying    48\n",
              "Saturday  13    Cibeunying    47\n",
              "Name: level, dtype: int64"
            ]
          },
          "metadata": {
            "tags": []
          },
          "execution_count": 123
        }
      ]
    },
    {
      "cell_type": "markdown",
      "metadata": {
        "id": "_SvF5ulzeImD"
      },
      "source": [
        "### Insight\n",
        "\n",
        "* Untuk semua tingkat kemacetan, terlihat bahwa Sub Wilayah Kota (SWK) Cibeunying mencatatkan top 5 jumlah kejadian terbanyak kecuali untuk tingkat kemacetan level 4.\n",
        "* Jumat dan Sabtu pukul 5 sore merupakan waktu dengan kejadian terbanyak untuk semua tingkat kemacetan, hindari berkendara di daerah Cibeunying pada waktu-waktu tersebut."
      ]
    },
    {
      "cell_type": "markdown",
      "metadata": {
        "id": "NS8nXDjpTM_v"
      },
      "source": [
        "# Modelling"
      ]
    },
    {
      "cell_type": "markdown",
      "metadata": {
        "id": "SCbA_mTRgolk"
      },
      "source": [
        "## Memilih Fitur"
      ]
    },
    {
      "cell_type": "code",
      "metadata": {
        "colab": {
          "base_uri": "https://localhost:8080/"
        },
        "id": "QjV2v0rzoAov",
        "outputId": "8d17f88a-6ffd-472a-8e72-cf8f8df9b54c"
      },
      "source": [
        "df.columns"
      ],
      "execution_count": 124,
      "outputs": [
        {
          "output_type": "execute_result",
          "data": {
            "text/plain": [
              "Index(['time', 'kemendagri_kabupaten_kode', 'kemendagri_kabupaten_nama',\n",
              "       'street', 'level', 'avg_length', 'avg_delay', 'avg_speed_kmh',\n",
              "       'total_records', 'id', 'date', 'geometry', 'hour', 'day',\n",
              "       'wilayah_Ujungberung', 'wilayah_Tegallega', 'wilayah_Kordon',\n",
              "       'wilayah_Karees', 'wilayah_Cibeunying', 'wilayah_Bojonagara',\n",
              "       'wilayah_Gedebage', 'wilayah_Arcamanik', 'wilayah'],\n",
              "      dtype='object')"
            ]
          },
          "metadata": {
            "tags": []
          },
          "execution_count": 124
        }
      ]
    },
    {
      "cell_type": "code",
      "metadata": {
        "colab": {
          "base_uri": "https://localhost:8080/",
          "height": 215
        },
        "id": "tJSgAfVisyrs",
        "outputId": "7927ce55-aaba-4177-9811-fe20b61e41e6"
      },
      "source": [
        "# Pada tahap ini akan diseleksi fitur-fitur yang diperlukan untuk membuat model\n",
        "\n",
        "df_model = df.drop(['kemendagri_kabupaten_kode', 'kemendagri_kabupaten_nama'], axis=1) # drop fitur yang memiliki value sama karena tidak berdampak pada model\n",
        "df_model = df_model.drop(['time', 'street', 'geometry', 'wilayah'], axis=1) # drop fitur yang sudah ditransformasi di tahap Exploratory Data Analysis\n",
        "df_model = df_model.drop(['total_records', 'id', 'date'], axis=1) # drop fitur yang dinilai tidak akan berkontribusi pada model\n",
        "df_model.head(5)"
      ],
      "execution_count": 125,
      "outputs": [
        {
          "output_type": "execute_result",
          "data": {
            "text/html": [
              "<div>\n",
              "<style scoped>\n",
              "    .dataframe tbody tr th:only-of-type {\n",
              "        vertical-align: middle;\n",
              "    }\n",
              "\n",
              "    .dataframe tbody tr th {\n",
              "        vertical-align: top;\n",
              "    }\n",
              "\n",
              "    .dataframe thead th {\n",
              "        text-align: right;\n",
              "    }\n",
              "</style>\n",
              "<table border=\"1\" class=\"dataframe\">\n",
              "  <thead>\n",
              "    <tr style=\"text-align: right;\">\n",
              "      <th></th>\n",
              "      <th>level</th>\n",
              "      <th>avg_length</th>\n",
              "      <th>avg_delay</th>\n",
              "      <th>avg_speed_kmh</th>\n",
              "      <th>hour</th>\n",
              "      <th>day</th>\n",
              "      <th>wilayah_Ujungberung</th>\n",
              "      <th>wilayah_Tegallega</th>\n",
              "      <th>wilayah_Kordon</th>\n",
              "      <th>wilayah_Karees</th>\n",
              "      <th>wilayah_Cibeunying</th>\n",
              "      <th>wilayah_Bojonagara</th>\n",
              "      <th>wilayah_Gedebage</th>\n",
              "      <th>wilayah_Arcamanik</th>\n",
              "    </tr>\n",
              "  </thead>\n",
              "  <tbody>\n",
              "    <tr>\n",
              "      <th>0</th>\n",
              "      <td>3</td>\n",
              "      <td>176.0000</td>\n",
              "      <td>106.0000</td>\n",
              "      <td>4.920000</td>\n",
              "      <td>16</td>\n",
              "      <td>Friday</td>\n",
              "      <td>0</td>\n",
              "      <td>0</td>\n",
              "      <td>0</td>\n",
              "      <td>0</td>\n",
              "      <td>1</td>\n",
              "      <td>0</td>\n",
              "      <td>0</td>\n",
              "      <td>0</td>\n",
              "    </tr>\n",
              "    <tr>\n",
              "      <th>1</th>\n",
              "      <td>3</td>\n",
              "      <td>307.0000</td>\n",
              "      <td>144.0000</td>\n",
              "      <td>6.130000</td>\n",
              "      <td>23</td>\n",
              "      <td>Friday</td>\n",
              "      <td>0</td>\n",
              "      <td>0</td>\n",
              "      <td>0</td>\n",
              "      <td>0</td>\n",
              "      <td>0</td>\n",
              "      <td>1</td>\n",
              "      <td>0</td>\n",
              "      <td>0</td>\n",
              "    </tr>\n",
              "    <tr>\n",
              "      <th>2</th>\n",
              "      <td>2</td>\n",
              "      <td>207.0000</td>\n",
              "      <td>60.0000</td>\n",
              "      <td>6.110000</td>\n",
              "      <td>16</td>\n",
              "      <td>Friday</td>\n",
              "      <td>0</td>\n",
              "      <td>0</td>\n",
              "      <td>1</td>\n",
              "      <td>0</td>\n",
              "      <td>0</td>\n",
              "      <td>0</td>\n",
              "      <td>0</td>\n",
              "      <td>0</td>\n",
              "    </tr>\n",
              "    <tr>\n",
              "      <th>3</th>\n",
              "      <td>3</td>\n",
              "      <td>220.0000</td>\n",
              "      <td>161.5000</td>\n",
              "      <td>3.931000</td>\n",
              "      <td>17</td>\n",
              "      <td>Friday</td>\n",
              "      <td>0</td>\n",
              "      <td>1</td>\n",
              "      <td>0</td>\n",
              "      <td>0</td>\n",
              "      <td>0</td>\n",
              "      <td>0</td>\n",
              "      <td>0</td>\n",
              "      <td>0</td>\n",
              "    </tr>\n",
              "    <tr>\n",
              "      <th>4</th>\n",
              "      <td>3</td>\n",
              "      <td>1453.4839</td>\n",
              "      <td>475.6129</td>\n",
              "      <td>8.523226</td>\n",
              "      <td>17</td>\n",
              "      <td>Friday</td>\n",
              "      <td>0</td>\n",
              "      <td>1</td>\n",
              "      <td>0</td>\n",
              "      <td>0</td>\n",
              "      <td>0</td>\n",
              "      <td>0</td>\n",
              "      <td>0</td>\n",
              "      <td>0</td>\n",
              "    </tr>\n",
              "  </tbody>\n",
              "</table>\n",
              "</div>"
            ],
            "text/plain": [
              "   level  avg_length  ...  wilayah_Gedebage  wilayah_Arcamanik\n",
              "0      3    176.0000  ...                 0                  0\n",
              "1      3    307.0000  ...                 0                  0\n",
              "2      2    207.0000  ...                 0                  0\n",
              "3      3    220.0000  ...                 0                  0\n",
              "4      3   1453.4839  ...                 0                  0\n",
              "\n",
              "[5 rows x 14 columns]"
            ]
          },
          "metadata": {
            "tags": []
          },
          "execution_count": 125
        }
      ]
    },
    {
      "cell_type": "markdown",
      "metadata": {
        "id": "8kNINW18Ns-V"
      },
      "source": [
        "## Encode Fitur Kategorik"
      ]
    },
    {
      "cell_type": "code",
      "metadata": {
        "colab": {
          "base_uri": "https://localhost:8080/",
          "height": 215
        },
        "id": "lzH3BUbrN0cw",
        "outputId": "44fdd7c0-f694-49fe-d37b-ed5cc56c62ef"
      },
      "source": [
        "# Pada pemodelan Machine Learning ini, jam dan hari akan dilihat sebagai fitur kategorik, sehingga perlu dilakukan encoding\n",
        "\n",
        "def create_dummy_df(df, cat_cols, dummy_na):\n",
        "    for col in cat_cols:\n",
        "        try:\n",
        "            df = pd.concat([df.drop(col, axis=1), pd.get_dummies(df[col], prefix=col, prefix_sep='_', dummy_na=dummy_na)], axis=1)\n",
        "        except:\n",
        "            continue\n",
        "\n",
        "    return df\n",
        "\n",
        "cat_df = df_model.select_dtypes(include=['object'])\n",
        "cat_cols_lst = cat_df.columns\n",
        "\n",
        "df_model = create_dummy_df(df_model, cat_cols_lst, dummy_na=False)\n",
        "df_model.head(5)"
      ],
      "execution_count": 126,
      "outputs": [
        {
          "output_type": "execute_result",
          "data": {
            "text/html": [
              "<div>\n",
              "<style scoped>\n",
              "    .dataframe tbody tr th:only-of-type {\n",
              "        vertical-align: middle;\n",
              "    }\n",
              "\n",
              "    .dataframe tbody tr th {\n",
              "        vertical-align: top;\n",
              "    }\n",
              "\n",
              "    .dataframe thead th {\n",
              "        text-align: right;\n",
              "    }\n",
              "</style>\n",
              "<table border=\"1\" class=\"dataframe\">\n",
              "  <thead>\n",
              "    <tr style=\"text-align: right;\">\n",
              "      <th></th>\n",
              "      <th>level</th>\n",
              "      <th>avg_length</th>\n",
              "      <th>avg_delay</th>\n",
              "      <th>avg_speed_kmh</th>\n",
              "      <th>wilayah_Ujungberung</th>\n",
              "      <th>wilayah_Tegallega</th>\n",
              "      <th>wilayah_Kordon</th>\n",
              "      <th>wilayah_Karees</th>\n",
              "      <th>wilayah_Cibeunying</th>\n",
              "      <th>wilayah_Bojonagara</th>\n",
              "      <th>wilayah_Gedebage</th>\n",
              "      <th>wilayah_Arcamanik</th>\n",
              "      <th>hour_00</th>\n",
              "      <th>hour_01</th>\n",
              "      <th>hour_02</th>\n",
              "      <th>hour_03</th>\n",
              "      <th>hour_04</th>\n",
              "      <th>hour_05</th>\n",
              "      <th>hour_06</th>\n",
              "      <th>hour_07</th>\n",
              "      <th>hour_08</th>\n",
              "      <th>hour_09</th>\n",
              "      <th>hour_10</th>\n",
              "      <th>hour_11</th>\n",
              "      <th>hour_12</th>\n",
              "      <th>hour_13</th>\n",
              "      <th>hour_14</th>\n",
              "      <th>hour_15</th>\n",
              "      <th>hour_16</th>\n",
              "      <th>hour_17</th>\n",
              "      <th>hour_18</th>\n",
              "      <th>hour_19</th>\n",
              "      <th>hour_20</th>\n",
              "      <th>hour_21</th>\n",
              "      <th>hour_22</th>\n",
              "      <th>hour_23</th>\n",
              "      <th>day_Friday</th>\n",
              "      <th>day_Monday</th>\n",
              "      <th>day_Saturday</th>\n",
              "      <th>day_Sunday</th>\n",
              "      <th>day_Thursday</th>\n",
              "      <th>day_Tuesday</th>\n",
              "      <th>day_Wednesday</th>\n",
              "    </tr>\n",
              "  </thead>\n",
              "  <tbody>\n",
              "    <tr>\n",
              "      <th>0</th>\n",
              "      <td>3</td>\n",
              "      <td>176.0000</td>\n",
              "      <td>106.0000</td>\n",
              "      <td>4.920000</td>\n",
              "      <td>0</td>\n",
              "      <td>0</td>\n",
              "      <td>0</td>\n",
              "      <td>0</td>\n",
              "      <td>1</td>\n",
              "      <td>0</td>\n",
              "      <td>0</td>\n",
              "      <td>0</td>\n",
              "      <td>0</td>\n",
              "      <td>0</td>\n",
              "      <td>0</td>\n",
              "      <td>0</td>\n",
              "      <td>0</td>\n",
              "      <td>0</td>\n",
              "      <td>0</td>\n",
              "      <td>0</td>\n",
              "      <td>0</td>\n",
              "      <td>0</td>\n",
              "      <td>0</td>\n",
              "      <td>0</td>\n",
              "      <td>0</td>\n",
              "      <td>0</td>\n",
              "      <td>0</td>\n",
              "      <td>0</td>\n",
              "      <td>1</td>\n",
              "      <td>0</td>\n",
              "      <td>0</td>\n",
              "      <td>0</td>\n",
              "      <td>0</td>\n",
              "      <td>0</td>\n",
              "      <td>0</td>\n",
              "      <td>0</td>\n",
              "      <td>1</td>\n",
              "      <td>0</td>\n",
              "      <td>0</td>\n",
              "      <td>0</td>\n",
              "      <td>0</td>\n",
              "      <td>0</td>\n",
              "      <td>0</td>\n",
              "    </tr>\n",
              "    <tr>\n",
              "      <th>1</th>\n",
              "      <td>3</td>\n",
              "      <td>307.0000</td>\n",
              "      <td>144.0000</td>\n",
              "      <td>6.130000</td>\n",
              "      <td>0</td>\n",
              "      <td>0</td>\n",
              "      <td>0</td>\n",
              "      <td>0</td>\n",
              "      <td>0</td>\n",
              "      <td>1</td>\n",
              "      <td>0</td>\n",
              "      <td>0</td>\n",
              "      <td>0</td>\n",
              "      <td>0</td>\n",
              "      <td>0</td>\n",
              "      <td>0</td>\n",
              "      <td>0</td>\n",
              "      <td>0</td>\n",
              "      <td>0</td>\n",
              "      <td>0</td>\n",
              "      <td>0</td>\n",
              "      <td>0</td>\n",
              "      <td>0</td>\n",
              "      <td>0</td>\n",
              "      <td>0</td>\n",
              "      <td>0</td>\n",
              "      <td>0</td>\n",
              "      <td>0</td>\n",
              "      <td>0</td>\n",
              "      <td>0</td>\n",
              "      <td>0</td>\n",
              "      <td>0</td>\n",
              "      <td>0</td>\n",
              "      <td>0</td>\n",
              "      <td>0</td>\n",
              "      <td>1</td>\n",
              "      <td>1</td>\n",
              "      <td>0</td>\n",
              "      <td>0</td>\n",
              "      <td>0</td>\n",
              "      <td>0</td>\n",
              "      <td>0</td>\n",
              "      <td>0</td>\n",
              "    </tr>\n",
              "    <tr>\n",
              "      <th>2</th>\n",
              "      <td>2</td>\n",
              "      <td>207.0000</td>\n",
              "      <td>60.0000</td>\n",
              "      <td>6.110000</td>\n",
              "      <td>0</td>\n",
              "      <td>0</td>\n",
              "      <td>1</td>\n",
              "      <td>0</td>\n",
              "      <td>0</td>\n",
              "      <td>0</td>\n",
              "      <td>0</td>\n",
              "      <td>0</td>\n",
              "      <td>0</td>\n",
              "      <td>0</td>\n",
              "      <td>0</td>\n",
              "      <td>0</td>\n",
              "      <td>0</td>\n",
              "      <td>0</td>\n",
              "      <td>0</td>\n",
              "      <td>0</td>\n",
              "      <td>0</td>\n",
              "      <td>0</td>\n",
              "      <td>0</td>\n",
              "      <td>0</td>\n",
              "      <td>0</td>\n",
              "      <td>0</td>\n",
              "      <td>0</td>\n",
              "      <td>0</td>\n",
              "      <td>1</td>\n",
              "      <td>0</td>\n",
              "      <td>0</td>\n",
              "      <td>0</td>\n",
              "      <td>0</td>\n",
              "      <td>0</td>\n",
              "      <td>0</td>\n",
              "      <td>0</td>\n",
              "      <td>1</td>\n",
              "      <td>0</td>\n",
              "      <td>0</td>\n",
              "      <td>0</td>\n",
              "      <td>0</td>\n",
              "      <td>0</td>\n",
              "      <td>0</td>\n",
              "    </tr>\n",
              "    <tr>\n",
              "      <th>3</th>\n",
              "      <td>3</td>\n",
              "      <td>220.0000</td>\n",
              "      <td>161.5000</td>\n",
              "      <td>3.931000</td>\n",
              "      <td>0</td>\n",
              "      <td>1</td>\n",
              "      <td>0</td>\n",
              "      <td>0</td>\n",
              "      <td>0</td>\n",
              "      <td>0</td>\n",
              "      <td>0</td>\n",
              "      <td>0</td>\n",
              "      <td>0</td>\n",
              "      <td>0</td>\n",
              "      <td>0</td>\n",
              "      <td>0</td>\n",
              "      <td>0</td>\n",
              "      <td>0</td>\n",
              "      <td>0</td>\n",
              "      <td>0</td>\n",
              "      <td>0</td>\n",
              "      <td>0</td>\n",
              "      <td>0</td>\n",
              "      <td>0</td>\n",
              "      <td>0</td>\n",
              "      <td>0</td>\n",
              "      <td>0</td>\n",
              "      <td>0</td>\n",
              "      <td>0</td>\n",
              "      <td>1</td>\n",
              "      <td>0</td>\n",
              "      <td>0</td>\n",
              "      <td>0</td>\n",
              "      <td>0</td>\n",
              "      <td>0</td>\n",
              "      <td>0</td>\n",
              "      <td>1</td>\n",
              "      <td>0</td>\n",
              "      <td>0</td>\n",
              "      <td>0</td>\n",
              "      <td>0</td>\n",
              "      <td>0</td>\n",
              "      <td>0</td>\n",
              "    </tr>\n",
              "    <tr>\n",
              "      <th>4</th>\n",
              "      <td>3</td>\n",
              "      <td>1453.4839</td>\n",
              "      <td>475.6129</td>\n",
              "      <td>8.523226</td>\n",
              "      <td>0</td>\n",
              "      <td>1</td>\n",
              "      <td>0</td>\n",
              "      <td>0</td>\n",
              "      <td>0</td>\n",
              "      <td>0</td>\n",
              "      <td>0</td>\n",
              "      <td>0</td>\n",
              "      <td>0</td>\n",
              "      <td>0</td>\n",
              "      <td>0</td>\n",
              "      <td>0</td>\n",
              "      <td>0</td>\n",
              "      <td>0</td>\n",
              "      <td>0</td>\n",
              "      <td>0</td>\n",
              "      <td>0</td>\n",
              "      <td>0</td>\n",
              "      <td>0</td>\n",
              "      <td>0</td>\n",
              "      <td>0</td>\n",
              "      <td>0</td>\n",
              "      <td>0</td>\n",
              "      <td>0</td>\n",
              "      <td>0</td>\n",
              "      <td>1</td>\n",
              "      <td>0</td>\n",
              "      <td>0</td>\n",
              "      <td>0</td>\n",
              "      <td>0</td>\n",
              "      <td>0</td>\n",
              "      <td>0</td>\n",
              "      <td>1</td>\n",
              "      <td>0</td>\n",
              "      <td>0</td>\n",
              "      <td>0</td>\n",
              "      <td>0</td>\n",
              "      <td>0</td>\n",
              "      <td>0</td>\n",
              "    </tr>\n",
              "  </tbody>\n",
              "</table>\n",
              "</div>"
            ],
            "text/plain": [
              "   level  avg_length  avg_delay  ...  day_Thursday  day_Tuesday  day_Wednesday\n",
              "0      3    176.0000   106.0000  ...             0            0              0\n",
              "1      3    307.0000   144.0000  ...             0            0              0\n",
              "2      2    207.0000    60.0000  ...             0            0              0\n",
              "3      3    220.0000   161.5000  ...             0            0              0\n",
              "4      3   1453.4839   475.6129  ...             0            0              0\n",
              "\n",
              "[5 rows x 43 columns]"
            ]
          },
          "metadata": {
            "tags": []
          },
          "execution_count": 126
        }
      ]
    },
    {
      "cell_type": "markdown",
      "metadata": {
        "id": "kyaAgC8e01J_"
      },
      "source": [
        "## Pemisahan Data Training dan Testing"
      ]
    },
    {
      "cell_type": "code",
      "metadata": {
        "id": "pO6XXb-r9yO0"
      },
      "source": [
        "# Pemisahan data training dan data testing\n",
        "\n",
        "from sklearn.model_selection import train_test_split\n",
        "\n",
        "y = df_model['level']\n",
        "X = df_model.iloc[:,1:]\n",
        "\n",
        "X_train, X_test, y_train, y_test = train_test_split(X, y, test_size = 0.3, random_state = 0)"
      ],
      "execution_count": 127,
      "outputs": []
    },
    {
      "cell_type": "markdown",
      "metadata": {
        "id": "bcqYcQ5KTRgn"
      },
      "source": [
        "## Multiclass Classifier Model\n",
        "\n"
      ]
    },
    {
      "cell_type": "code",
      "metadata": {
        "colab": {
          "base_uri": "https://localhost:8080/"
        },
        "id": "xdeaSAhcquW2",
        "outputId": "63ee941a-d6f1-490b-c155-5a9ab2388dfa"
      },
      "source": [
        "# Variabel target y yaitu level kemacetan dilihat sebagai variabel kategorik. Pemodelan yang akan diterapkan adalah pemodelan klasifikasi multiclass\n",
        "# karena level kemacetan merupakan bilangan bulat dari 1-5. Akan dicari model terbaik dari strategi pemodelan multiclass \n",
        "# One vs Rest dan One vs One Classifier. Dengan menggunakan model-model Logistic Regression, Decision Tree Classifier \n",
        "# dan Random Forest Classifier, berikut adalah pemodelannya.\n",
        "\n",
        "# Model One vs Rest (OVR Classifier)\n",
        "\n",
        "from sklearn.multiclass import OneVsRestClassifier\n",
        "from sklearn.linear_model import LogisticRegression\n",
        "from sklearn.tree import DecisionTreeClassifier\n",
        "from sklearn.ensemble import RandomForestClassifier\n",
        "\n",
        "# Instantiate dan Fit\n",
        "ovr_log = OneVsRestClassifier(LogisticRegression()).fit(X_train, y_train)\n",
        "ovr_dt = OneVsRestClassifier(DecisionTreeClassifier()).fit(X_train, y_train)\n",
        "ovr_rf = OneVsRestClassifier(RandomForestClassifier()).fit(X_train, y_train)\n",
        "\n",
        "# Prediksi\n",
        "y_test_pred_log = ovr_log.predict(X_test)\n",
        "y_test_pred_dt = ovr_dt.predict(X_test)\n",
        "y_test_pred_rf = ovr_rf.predict(X_test)"
      ],
      "execution_count": 128,
      "outputs": [
        {
          "output_type": "stream",
          "text": [
            "/usr/local/lib/python3.7/dist-packages/sklearn/linear_model/_logistic.py:940: ConvergenceWarning: lbfgs failed to converge (status=1):\n",
            "STOP: TOTAL NO. of ITERATIONS REACHED LIMIT.\n",
            "\n",
            "Increase the number of iterations (max_iter) or scale the data as shown in:\n",
            "    https://scikit-learn.org/stable/modules/preprocessing.html\n",
            "Please also refer to the documentation for alternative solver options:\n",
            "    https://scikit-learn.org/stable/modules/linear_model.html#logistic-regression\n",
            "  extra_warning_msg=_LOGISTIC_SOLVER_CONVERGENCE_MSG)\n",
            "/usr/local/lib/python3.7/dist-packages/sklearn/linear_model/_logistic.py:940: ConvergenceWarning: lbfgs failed to converge (status=1):\n",
            "STOP: TOTAL NO. of ITERATIONS REACHED LIMIT.\n",
            "\n",
            "Increase the number of iterations (max_iter) or scale the data as shown in:\n",
            "    https://scikit-learn.org/stable/modules/preprocessing.html\n",
            "Please also refer to the documentation for alternative solver options:\n",
            "    https://scikit-learn.org/stable/modules/linear_model.html#logistic-regression\n",
            "  extra_warning_msg=_LOGISTIC_SOLVER_CONVERGENCE_MSG)\n",
            "/usr/local/lib/python3.7/dist-packages/sklearn/linear_model/_logistic.py:940: ConvergenceWarning: lbfgs failed to converge (status=1):\n",
            "STOP: TOTAL NO. of ITERATIONS REACHED LIMIT.\n",
            "\n",
            "Increase the number of iterations (max_iter) or scale the data as shown in:\n",
            "    https://scikit-learn.org/stable/modules/preprocessing.html\n",
            "Please also refer to the documentation for alternative solver options:\n",
            "    https://scikit-learn.org/stable/modules/linear_model.html#logistic-regression\n",
            "  extra_warning_msg=_LOGISTIC_SOLVER_CONVERGENCE_MSG)\n",
            "/usr/local/lib/python3.7/dist-packages/sklearn/linear_model/_logistic.py:940: ConvergenceWarning: lbfgs failed to converge (status=1):\n",
            "STOP: TOTAL NO. of ITERATIONS REACHED LIMIT.\n",
            "\n",
            "Increase the number of iterations (max_iter) or scale the data as shown in:\n",
            "    https://scikit-learn.org/stable/modules/preprocessing.html\n",
            "Please also refer to the documentation for alternative solver options:\n",
            "    https://scikit-learn.org/stable/modules/linear_model.html#logistic-regression\n",
            "  extra_warning_msg=_LOGISTIC_SOLVER_CONVERGENCE_MSG)\n"
          ],
          "name": "stderr"
        }
      ]
    },
    {
      "cell_type": "code",
      "metadata": {
        "colab": {
          "base_uri": "https://localhost:8080/"
        },
        "id": "-bdkxpii8lwO",
        "outputId": "14beb75b-57b2-4a4d-82e2-b80ea265715e"
      },
      "source": [
        "# Model One vs One (OVO Classifier)\n",
        "\n",
        "from sklearn.multiclass import OneVsOneClassifier\n",
        "\n",
        "# Instantiate dan Fit\n",
        "ovo_log = OneVsOneClassifier(LogisticRegression()).fit(X_train, y_train)\n",
        "ovo_dt = OneVsOneClassifier(DecisionTreeClassifier()).fit(X_train, y_train)\n",
        "ovo_rf = OneVsOneClassifier(RandomForestClassifier()).fit(X_train, y_train)\n",
        "\n",
        "# Prediksi\n",
        "y_test_pred_log_ovo = ovo_log.predict(X_test)\n",
        "y_test_pred_dt_ovo = ovo_dt.predict(X_test)\n",
        "y_test_pred_rf_ovo = ovo_rf.predict(X_test)"
      ],
      "execution_count": 129,
      "outputs": [
        {
          "output_type": "stream",
          "text": [
            "/usr/local/lib/python3.7/dist-packages/sklearn/linear_model/_logistic.py:940: ConvergenceWarning: lbfgs failed to converge (status=1):\n",
            "STOP: TOTAL NO. of ITERATIONS REACHED LIMIT.\n",
            "\n",
            "Increase the number of iterations (max_iter) or scale the data as shown in:\n",
            "    https://scikit-learn.org/stable/modules/preprocessing.html\n",
            "Please also refer to the documentation for alternative solver options:\n",
            "    https://scikit-learn.org/stable/modules/linear_model.html#logistic-regression\n",
            "  extra_warning_msg=_LOGISTIC_SOLVER_CONVERGENCE_MSG)\n",
            "/usr/local/lib/python3.7/dist-packages/sklearn/linear_model/_logistic.py:940: ConvergenceWarning: lbfgs failed to converge (status=1):\n",
            "STOP: TOTAL NO. of ITERATIONS REACHED LIMIT.\n",
            "\n",
            "Increase the number of iterations (max_iter) or scale the data as shown in:\n",
            "    https://scikit-learn.org/stable/modules/preprocessing.html\n",
            "Please also refer to the documentation for alternative solver options:\n",
            "    https://scikit-learn.org/stable/modules/linear_model.html#logistic-regression\n",
            "  extra_warning_msg=_LOGISTIC_SOLVER_CONVERGENCE_MSG)\n",
            "/usr/local/lib/python3.7/dist-packages/sklearn/linear_model/_logistic.py:940: ConvergenceWarning: lbfgs failed to converge (status=1):\n",
            "STOP: TOTAL NO. of ITERATIONS REACHED LIMIT.\n",
            "\n",
            "Increase the number of iterations (max_iter) or scale the data as shown in:\n",
            "    https://scikit-learn.org/stable/modules/preprocessing.html\n",
            "Please also refer to the documentation for alternative solver options:\n",
            "    https://scikit-learn.org/stable/modules/linear_model.html#logistic-regression\n",
            "  extra_warning_msg=_LOGISTIC_SOLVER_CONVERGENCE_MSG)\n",
            "/usr/local/lib/python3.7/dist-packages/sklearn/linear_model/_logistic.py:940: ConvergenceWarning: lbfgs failed to converge (status=1):\n",
            "STOP: TOTAL NO. of ITERATIONS REACHED LIMIT.\n",
            "\n",
            "Increase the number of iterations (max_iter) or scale the data as shown in:\n",
            "    https://scikit-learn.org/stable/modules/preprocessing.html\n",
            "Please also refer to the documentation for alternative solver options:\n",
            "    https://scikit-learn.org/stable/modules/linear_model.html#logistic-regression\n",
            "  extra_warning_msg=_LOGISTIC_SOLVER_CONVERGENCE_MSG)\n",
            "/usr/local/lib/python3.7/dist-packages/sklearn/linear_model/_logistic.py:940: ConvergenceWarning: lbfgs failed to converge (status=1):\n",
            "STOP: TOTAL NO. of ITERATIONS REACHED LIMIT.\n",
            "\n",
            "Increase the number of iterations (max_iter) or scale the data as shown in:\n",
            "    https://scikit-learn.org/stable/modules/preprocessing.html\n",
            "Please also refer to the documentation for alternative solver options:\n",
            "    https://scikit-learn.org/stable/modules/linear_model.html#logistic-regression\n",
            "  extra_warning_msg=_LOGISTIC_SOLVER_CONVERGENCE_MSG)\n",
            "/usr/local/lib/python3.7/dist-packages/sklearn/linear_model/_logistic.py:940: ConvergenceWarning: lbfgs failed to converge (status=1):\n",
            "STOP: TOTAL NO. of ITERATIONS REACHED LIMIT.\n",
            "\n",
            "Increase the number of iterations (max_iter) or scale the data as shown in:\n",
            "    https://scikit-learn.org/stable/modules/preprocessing.html\n",
            "Please also refer to the documentation for alternative solver options:\n",
            "    https://scikit-learn.org/stable/modules/linear_model.html#logistic-regression\n",
            "  extra_warning_msg=_LOGISTIC_SOLVER_CONVERGENCE_MSG)\n",
            "/usr/local/lib/python3.7/dist-packages/sklearn/linear_model/_logistic.py:940: ConvergenceWarning: lbfgs failed to converge (status=1):\n",
            "STOP: TOTAL NO. of ITERATIONS REACHED LIMIT.\n",
            "\n",
            "Increase the number of iterations (max_iter) or scale the data as shown in:\n",
            "    https://scikit-learn.org/stable/modules/preprocessing.html\n",
            "Please also refer to the documentation for alternative solver options:\n",
            "    https://scikit-learn.org/stable/modules/linear_model.html#logistic-regression\n",
            "  extra_warning_msg=_LOGISTIC_SOLVER_CONVERGENCE_MSG)\n"
          ],
          "name": "stderr"
        }
      ]
    },
    {
      "cell_type": "markdown",
      "metadata": {
        "id": "LQMRi0GSTkVL"
      },
      "source": [
        "## Memilih Model"
      ]
    },
    {
      "cell_type": "code",
      "metadata": {
        "colab": {
          "base_uri": "https://localhost:8080/"
        },
        "id": "hGBNB2vH05qv",
        "outputId": "68078742-7206-4c3d-f52b-9dc8d6b1eda4"
      },
      "source": [
        "# Pada tahap ini akan dibandingkan akurasi dan nilai r-squared dari masing-masing model\n",
        "\n",
        "# Score OVR\n",
        "## Logistic OVR\n",
        "print(\"R-Square Logisitc OVR: \" + str(r2_score(y_test, y_test_pred_log)))\n",
        "print(\"Accuracy Logisitc OVR: \" + str(round(accuracy_score(y_test, y_test_pred_log)*100,2)) + \"%\")\n",
        "## Decision Tree OVR\n",
        "print(\"R-Square Decision Tree OVR: \" + str(r2_score(y_test, y_test_pred_dt)))\n",
        "print(\"Accuracy Decision Tree OVR: \" + str(round(accuracy_score(y_test, y_test_pred_dt)*100,2)) + \"%\")\n",
        "## Random Forest OVR\n",
        "print(\"R-Square Random Forest OVR: \" + str(r2_score(y_test, y_test_pred_rf)))\n",
        "print(\"Accuracy Random Forest OVR: \" + str(round(accuracy_score(y_test, y_test_pred_rf)*100,2)) + \"%\")"
      ],
      "execution_count": 130,
      "outputs": [
        {
          "output_type": "stream",
          "text": [
            "R-Square Logisitc OVR: 0.6016210820249503\n",
            "Accuracy Logisitc OVR: 69.98%\n",
            "R-Square Decision Tree OVR: -0.19255393546708643\n",
            "Accuracy Decision Tree OVR: 70.43%\n",
            "R-Square Random Forest OVR: 0.7023926602516204\n",
            "Accuracy Random Forest OVR: 77.98%\n"
          ],
          "name": "stdout"
        }
      ]
    },
    {
      "cell_type": "code",
      "metadata": {
        "colab": {
          "base_uri": "https://localhost:8080/"
        },
        "id": "Re4RzVYA9Aqk",
        "outputId": "ae07cf3c-5302-4192-da63-892051cb23f3"
      },
      "source": [
        "# Score OVO\n",
        "## Logistic OVO\n",
        "print(\"R-Square Logisitc OVO: \" + str(r2_score(y_test, y_test_pred_log_ovo)))\n",
        "print(\"Accuracy Logisitc OVO: \" + str(round(accuracy_score(y_test, y_test_pred_log_ovo)*100,2)) + \"%\")\n",
        "## Decision Tree OVO\n",
        "print(\"R-Square Decision Tree OVO: \" + str(r2_score(y_test, y_test_pred_dt_ovo)))\n",
        "print(\"Accuracy Decision Tree OVO: \" + str(round(accuracy_score(y_test, y_test_pred_dt_ovo)*100,2)) + \"%\")\n",
        "## Random Forest OVO\n",
        "print(\"R-Square Random Forest OVO: \" + str(r2_score(y_test, y_test_pred_rf_ovo)))\n",
        "print(\"Accuracy Random Forest OVO: \" + str(round(accuracy_score(y_test, y_test_pred_rf_ovo)*100,2)) + \"%\")"
      ],
      "execution_count": 131,
      "outputs": [
        {
          "output_type": "stream",
          "text": [
            "R-Square Logisitc OVO: 0.6696908459035691\n",
            "Accuracy Logisitc OVO: 75.36%\n",
            "R-Square Decision Tree OVO: 0.6466537715921394\n",
            "Accuracy Decision Tree OVO: 75.64%\n",
            "R-Square Random Forest OVO: 0.7075582971677457\n",
            "Accuracy Random Forest OVO: 78.51%\n"
          ],
          "name": "stdout"
        }
      ]
    },
    {
      "cell_type": "markdown",
      "metadata": {
        "id": "uuSdk2nj97jR"
      },
      "source": [
        "Dilihat dari nilai R-Square dan akurasi model, maka dipilih **model Random Forest Classifier dengan strategi One vs One Classifier** dengan nilai R-square 0.707 dan nilai akurasi 78.51%."
      ]
    },
    {
      "cell_type": "markdown",
      "metadata": {
        "id": "2gMQGZhV9x0m"
      },
      "source": [
        "## Melakukan k-Fold Cross Validation pada Model yang Dipilih"
      ]
    },
    {
      "cell_type": "code",
      "metadata": {
        "colab": {
          "base_uri": "https://localhost:8080/"
        },
        "id": "kYDoy6EF-aNa",
        "outputId": "17ac6caf-78b3-4707-cd8c-ff97a0c1d647"
      },
      "source": [
        "# Pada tahap ini dilakukan validasi model untuk melihat apakah model overfit atau underfit\n",
        "\n",
        "from sklearn.model_selection import cross_val_score\n",
        "accuracies = cross_val_score(estimator = ovo_rf, X = X_train, y = y_train, cv = 10)\n",
        "print(\"Accuracy: {:.2f} %\".format(accuracies.mean()*100))\n",
        "print(\"Standard Deviation: {:.2f} %\".format(accuracies.std()*100))"
      ],
      "execution_count": 132,
      "outputs": [
        {
          "output_type": "stream",
          "text": [
            "Accuracy: 77.89 %\n",
            "Standard Deviation: 0.48 %\n"
          ],
          "name": "stdout"
        }
      ]
    },
    {
      "cell_type": "markdown",
      "metadata": {
        "id": "KssNIXnjkx4G"
      },
      "source": [
        "Dengan selisih nilai akurasi sebesar 0.62% dari validasi dan model yang dipilih, maka dapat disimpulkan bahwa model sudah cukup baik.\n",
        "\n"
      ]
    },
    {
      "cell_type": "markdown",
      "metadata": {
        "id": "LjH6AZwxThqD"
      },
      "source": [
        "## Mengukur Pengaruh Fitur dengan Permutation Feature Importance"
      ]
    },
    {
      "cell_type": "code",
      "metadata": {
        "id": "3ru1pgrdPGCL"
      },
      "source": [
        "# Pada tahap ini diterapkan metode Permutation Feature Importance untuk mengukur fitur mana yang paling memengaruhi model yang dipilih\n",
        "\n",
        "from rfpimp import permutation_importances\n",
        "\n",
        "def r2(rf, X_train, y_train):\n",
        "    return r2_score(y_train, ovo_rf.predict(X_train))\n",
        "\n",
        "perm_imp_rfpimp = permutation_importances(ovo_rf, X_train, y_train, r2)"
      ],
      "execution_count": 133,
      "outputs": []
    },
    {
      "cell_type": "code",
      "metadata": {
        "colab": {
          "base_uri": "https://localhost:8080/"
        },
        "id": "OSr8T7scPryw",
        "outputId": "4c4f9488-a7b8-4cb4-9a10-97f3ae2dd2a9"
      },
      "source": [
        "perm_imp_rfpimp.sort_values"
      ],
      "execution_count": 134,
      "outputs": [
        {
          "output_type": "execute_result",
          "data": {
            "text/plain": [
              "<bound method DataFrame.sort_values of                      Importance\n",
              "Feature                        \n",
              "avg_delay              1.140092\n",
              "avg_speed_kmh          0.551702\n",
              "avg_length             0.546626\n",
              "wilayah_Cibeunying     0.072914\n",
              "wilayah_Karees         0.072222\n",
              "wilayah_Bojonagara     0.049840\n",
              "wilayah_Tegallega      0.044995\n",
              "day_Wednesday          0.027458\n",
              "day_Saturday           0.027227\n",
              "day_Friday             0.026997\n",
              "day_Thursday           0.026305\n",
              "day_Sunday             0.025843\n",
              "day_Tuesday            0.021920\n",
              "day_Monday             0.020767\n",
              "hour_17                0.018921\n",
              "wilayah_Kordon         0.016844\n",
              "hour_11                0.016613\n",
              "hour_18                0.015921\n",
              "hour_14                0.015690\n",
              "hour_20                0.015460\n",
              "hour_15                0.013844\n",
              "hour_16                0.013383\n",
              "hour_12                0.012229\n",
              "hour_13                0.011768\n",
              "hour_10                0.011076\n",
              "hour_19                0.008768\n",
              "wilayah_Ujungberung    0.008537\n",
              "wilayah_Arcamanik      0.008537\n",
              "hour_08                0.008307\n",
              "wilayah_Gedebage       0.007153\n",
              "hour_09                0.007153\n",
              "hour_21                0.006922\n",
              "hour_22                0.005538\n",
              "hour_06                0.004384\n",
              "hour_07                0.003230\n",
              "hour_23                0.002769\n",
              "hour_05                0.001846\n",
              "hour_02                0.000923\n",
              "hour_01                0.000923\n",
              "hour_00                0.000923\n",
              "hour_04                0.000461\n",
              "hour_03                0.000231>"
            ]
          },
          "metadata": {
            "tags": []
          },
          "execution_count": 134
        }
      ]
    },
    {
      "cell_type": "markdown",
      "metadata": {
        "id": "VhM1LxNeW7UE"
      },
      "source": [
        "### Insight\n",
        "\n",
        "* Rata-rata waktu _delay_ (dalam detik) yang diakibatkan oleh kemacetan menjadi faktor yang paling berpengaruh pada level kemacetan.\n",
        "* Kecepatan rata-rata dan panjang antrian menjadi dua faktor yang paling berpengaruh berikutnya pada level kemacetan.\n",
        "* Keberadaan kendaraan di wilayah Cibeunying, Karees dan Bojonagara menjadi tiga wilayah teratas yang berpengaruh pada level kemacetan.\n",
        "* Hari Rabu, Sabtu dan Jumat merupakan tiga hari teratas yang berpengaruh pada level kemacetan.\n",
        "* Pukul 5 sore menjadi waktu yang paling berpengaruh pada level kemacetan."
      ]
    },
    {
      "cell_type": "markdown",
      "metadata": {
        "id": "TnwgXCg588yo"
      },
      "source": [
        "# Kesimpulan dan Rekomendasi"
      ]
    },
    {
      "cell_type": "markdown",
      "metadata": {
        "id": "wm93zkKJYjHE"
      },
      "source": [
        "**Sesuai dengan _insights_ yang telah dipaparkan, maka poin penting yang dapat diambil adalah:**\n",
        "\n",
        "* **Hindari berkendara pada pukul 5 sore terutama pada hari Jumat dan Sabtu** karena telah ditunjukkan pada Exploratory Data Analysis bahwa pukul 5 sore merupakan waktu yang selalu tercatat dalam _top 5_ di semua level kemacetan. Selain itu, pengaruh fitur pukul 5 sore pada model juga menunjukkan pengaruh yang paling kuat dibanding jam-jam lainnya.\n",
        "* **Hindari khususnya Kawasan Cibeunying** pada waktu yang telah disebutkan di poin pertama karena kemacetan di Cibeunying tercatat paling banyak untuk semua level kemacetan. Selain itu, pengaruh fitur wilayah Cibeunying juga menunjukkan pengaruh paling kuat dibanding wilayah-wilayah lainnya.\n",
        "* **Rata-rata waktu _delay_ menjadi faktor yang paling memengaruhi level kemacetan**, disarankan untuk mengambil jalan alternatif atau menunggu hingga malam jika mengalami _delay_ yang cukup panjang."
      ]
    }
  ]
}